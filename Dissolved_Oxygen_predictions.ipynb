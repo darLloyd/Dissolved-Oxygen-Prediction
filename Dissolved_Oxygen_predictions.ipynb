{
 "cells": [
  {
   "cell_type": "markdown",
   "metadata": {},
   "source": [
    "# Predicting Dissolved oxygen in river water"
   ]
  },
  {
   "cell_type": "markdown",
   "metadata": {},
   "source": [
    "### Table of Contents\n",
    "* [Introduction](#intro)\n",
    "* [Data Source](#source)\n",
    "* [Data Exploration](#explore)\n",
    "* [Data Visualization](#visual)\n",
    "* [Data Modeling](#modeling)\n",
    "* [Model Tuning](#tuning)\n",
    "* [Data Predictions](#predictions)\n",
    "* [Conclusion](#conclusion)"
   ]
  },
  {
   "cell_type": "markdown",
   "metadata": {},
   "source": [
    "### Introduction <a name=\"intro\"></a>\n",
    "\n",
    "The aim of this project is to build a machine learning model in order to predict dissolved oxygen levels in river water at a target station based on reading from several up stream stations.\n",
    "The parameters of the data set are:\n",
    "- Dissolved oxygen (O2) is measured in mgO2/cub. dm (milligrams of O2 per cubic decimeter)\n",
    "- \"Id\" is the unique identifier for a given monthly averaged data\n",
    "- \"target\" are values of monthly averaged O2 readings in target station, mgO2/cub. dm\n",
    "- \"1-7\" are values of monthly averaged data in up stream stations 1-7\n",
    "\n"
   ]
  },
  {
   "cell_type": "markdown",
   "metadata": {},
   "source": [
    "### Data Source <a name=\"source\"></a>\n",
    "\n",
    "The data for this project was obtained from a [kaggle dataset](https://www.kaggle.com/vbmokin/dissolved-oxygen-prediction-in-river-water) where water quality parameters were measured. I acknowledge and thank the author for his contribution."
   ]
  },
  {
   "cell_type": "markdown",
   "metadata": {},
   "source": [
    "### Data Exploration <a name=\"explore\"></a>"
   ]
  },
  {
   "cell_type": "code",
   "execution_count": 1,
   "metadata": {},
   "outputs": [],
   "source": [
    "# Loading of libraries \n",
    "import pandas as pd\n",
    "import numpy as np\n",
    "import matplotlib as mp\n",
    "import seaborn as sns\n",
    "\n",
    "from sklearn import preprocessing\n",
    "from sklearn.metrics import accuracy_score\n",
    "from pandas.plotting import scatter_matrix\n",
    "from sklearn.model_selection import GridSearchCV"
   ]
  },
  {
   "cell_type": "code",
   "execution_count": 2,
   "metadata": {},
   "outputs": [
    {
     "data": {
      "text/html": [
       "<div>\n",
       "<style scoped>\n",
       "    .dataframe tbody tr th:only-of-type {\n",
       "        vertical-align: middle;\n",
       "    }\n",
       "\n",
       "    .dataframe tbody tr th {\n",
       "        vertical-align: top;\n",
       "    }\n",
       "\n",
       "    .dataframe thead th {\n",
       "        text-align: right;\n",
       "    }\n",
       "</style>\n",
       "<table border=\"1\" class=\"dataframe\">\n",
       "  <thead>\n",
       "    <tr style=\"text-align: right;\">\n",
       "      <th></th>\n",
       "      <th>Id</th>\n",
       "      <th>target</th>\n",
       "      <th>O2_1</th>\n",
       "      <th>O2_2</th>\n",
       "      <th>O2_3</th>\n",
       "      <th>O2_4</th>\n",
       "      <th>O2_5</th>\n",
       "      <th>O2_6</th>\n",
       "      <th>O2_7</th>\n",
       "      <th>NH4_1</th>\n",
       "      <th>...</th>\n",
       "      <th>NO3_5</th>\n",
       "      <th>NO3_6</th>\n",
       "      <th>NO3_7</th>\n",
       "      <th>BOD5_1</th>\n",
       "      <th>BOD5_2</th>\n",
       "      <th>BOD5_3</th>\n",
       "      <th>BOD5_4</th>\n",
       "      <th>BOD5_5</th>\n",
       "      <th>BOD5_6</th>\n",
       "      <th>BOD5_7</th>\n",
       "    </tr>\n",
       "  </thead>\n",
       "  <tbody>\n",
       "    <tr>\n",
       "      <th>0</th>\n",
       "      <td>0</td>\n",
       "      <td>12.58</td>\n",
       "      <td>9.875</td>\n",
       "      <td>9.20</td>\n",
       "      <td>NaN</td>\n",
       "      <td>NaN</td>\n",
       "      <td>NaN</td>\n",
       "      <td>NaN</td>\n",
       "      <td>NaN</td>\n",
       "      <td>0.690</td>\n",
       "      <td>...</td>\n",
       "      <td>NaN</td>\n",
       "      <td>NaN</td>\n",
       "      <td>NaN</td>\n",
       "      <td>4.80</td>\n",
       "      <td>5.850</td>\n",
       "      <td>NaN</td>\n",
       "      <td>NaN</td>\n",
       "      <td>NaN</td>\n",
       "      <td>NaN</td>\n",
       "      <td>NaN</td>\n",
       "    </tr>\n",
       "    <tr>\n",
       "      <th>1</th>\n",
       "      <td>3</td>\n",
       "      <td>9.37</td>\n",
       "      <td>10.300</td>\n",
       "      <td>10.75</td>\n",
       "      <td>NaN</td>\n",
       "      <td>NaN</td>\n",
       "      <td>NaN</td>\n",
       "      <td>NaN</td>\n",
       "      <td>NaN</td>\n",
       "      <td>0.710</td>\n",
       "      <td>...</td>\n",
       "      <td>NaN</td>\n",
       "      <td>NaN</td>\n",
       "      <td>NaN</td>\n",
       "      <td>5.88</td>\n",
       "      <td>6.835</td>\n",
       "      <td>NaN</td>\n",
       "      <td>NaN</td>\n",
       "      <td>NaN</td>\n",
       "      <td>NaN</td>\n",
       "      <td>NaN</td>\n",
       "    </tr>\n",
       "    <tr>\n",
       "      <th>2</th>\n",
       "      <td>4</td>\n",
       "      <td>8.35</td>\n",
       "      <td>8.290</td>\n",
       "      <td>7.90</td>\n",
       "      <td>NaN</td>\n",
       "      <td>NaN</td>\n",
       "      <td>NaN</td>\n",
       "      <td>NaN</td>\n",
       "      <td>NaN</td>\n",
       "      <td>2.210</td>\n",
       "      <td>...</td>\n",
       "      <td>NaN</td>\n",
       "      <td>NaN</td>\n",
       "      <td>NaN</td>\n",
       "      <td>3.20</td>\n",
       "      <td>2.700</td>\n",
       "      <td>NaN</td>\n",
       "      <td>NaN</td>\n",
       "      <td>NaN</td>\n",
       "      <td>NaN</td>\n",
       "      <td>NaN</td>\n",
       "    </tr>\n",
       "    <tr>\n",
       "      <th>3</th>\n",
       "      <td>5</td>\n",
       "      <td>9.57</td>\n",
       "      <td>8.820</td>\n",
       "      <td>6.80</td>\n",
       "      <td>NaN</td>\n",
       "      <td>NaN</td>\n",
       "      <td>NaN</td>\n",
       "      <td>NaN</td>\n",
       "      <td>NaN</td>\n",
       "      <td>0.595</td>\n",
       "      <td>...</td>\n",
       "      <td>NaN</td>\n",
       "      <td>NaN</td>\n",
       "      <td>NaN</td>\n",
       "      <td>7.70</td>\n",
       "      <td>7.055</td>\n",
       "      <td>NaN</td>\n",
       "      <td>NaN</td>\n",
       "      <td>NaN</td>\n",
       "      <td>NaN</td>\n",
       "      <td>NaN</td>\n",
       "    </tr>\n",
       "    <tr>\n",
       "      <th>4</th>\n",
       "      <td>6</td>\n",
       "      <td>6.00</td>\n",
       "      <td>6.000</td>\n",
       "      <td>6.50</td>\n",
       "      <td>NaN</td>\n",
       "      <td>NaN</td>\n",
       "      <td>NaN</td>\n",
       "      <td>NaN</td>\n",
       "      <td>NaN</td>\n",
       "      <td>0.600</td>\n",
       "      <td>...</td>\n",
       "      <td>NaN</td>\n",
       "      <td>NaN</td>\n",
       "      <td>NaN</td>\n",
       "      <td>5.50</td>\n",
       "      <td>5.300</td>\n",
       "      <td>NaN</td>\n",
       "      <td>NaN</td>\n",
       "      <td>NaN</td>\n",
       "      <td>NaN</td>\n",
       "      <td>NaN</td>\n",
       "    </tr>\n",
       "  </tbody>\n",
       "</table>\n",
       "<p>5 rows × 37 columns</p>\n",
       "</div>"
      ],
      "text/plain": [
       "   Id  target    O2_1   O2_2  O2_3  O2_4  O2_5  O2_6  O2_7  NH4_1  ...  NO3_5  \\\n",
       "0   0   12.58   9.875   9.20   NaN   NaN   NaN   NaN   NaN  0.690  ...    NaN   \n",
       "1   3    9.37  10.300  10.75   NaN   NaN   NaN   NaN   NaN  0.710  ...    NaN   \n",
       "2   4    8.35   8.290   7.90   NaN   NaN   NaN   NaN   NaN  2.210  ...    NaN   \n",
       "3   5    9.57   8.820   6.80   NaN   NaN   NaN   NaN   NaN  0.595  ...    NaN   \n",
       "4   6    6.00   6.000   6.50   NaN   NaN   NaN   NaN   NaN  0.600  ...    NaN   \n",
       "\n",
       "   NO3_6  NO3_7  BOD5_1  BOD5_2  BOD5_3  BOD5_4  BOD5_5  BOD5_6  BOD5_7  \n",
       "0    NaN    NaN    4.80   5.850     NaN     NaN     NaN     NaN     NaN  \n",
       "1    NaN    NaN    5.88   6.835     NaN     NaN     NaN     NaN     NaN  \n",
       "2    NaN    NaN    3.20   2.700     NaN     NaN     NaN     NaN     NaN  \n",
       "3    NaN    NaN    7.70   7.055     NaN     NaN     NaN     NaN     NaN  \n",
       "4    NaN    NaN    5.50   5.300     NaN     NaN     NaN     NaN     NaN  \n",
       "\n",
       "[5 rows x 37 columns]"
      ]
     },
     "execution_count": 2,
     "metadata": {},
     "output_type": "execute_result"
    }
   ],
   "source": [
    "d = pd.read_csv(r'C:\\Users\xxxxxxxxxxxxxxxxxxxxxxxxxxxx.csv')\n",
    "d.head(5)"
   ]
  },
  {
   "cell_type": "code",
   "execution_count": 3,
   "metadata": {},
   "outputs": [
    {
     "data": {
      "text/html": [
       "<div>\n",
       "<style scoped>\n",
       "    .dataframe tbody tr th:only-of-type {\n",
       "        vertical-align: middle;\n",
       "    }\n",
       "\n",
       "    .dataframe tbody tr th {\n",
       "        vertical-align: top;\n",
       "    }\n",
       "\n",
       "    .dataframe thead th {\n",
       "        text-align: right;\n",
       "    }\n",
       "</style>\n",
       "<table border=\"1\" class=\"dataframe\">\n",
       "  <thead>\n",
       "    <tr style=\"text-align: right;\">\n",
       "      <th></th>\n",
       "      <th>Id</th>\n",
       "      <th>target</th>\n",
       "      <th>O2_1</th>\n",
       "      <th>O2_2</th>\n",
       "      <th>O2_3</th>\n",
       "      <th>O2_4</th>\n",
       "      <th>O2_5</th>\n",
       "      <th>O2_6</th>\n",
       "      <th>O2_7</th>\n",
       "      <th>NH4_1</th>\n",
       "      <th>...</th>\n",
       "      <th>NO3_5</th>\n",
       "      <th>NO3_6</th>\n",
       "      <th>NO3_7</th>\n",
       "      <th>BOD5_1</th>\n",
       "      <th>BOD5_2</th>\n",
       "      <th>BOD5_3</th>\n",
       "      <th>BOD5_4</th>\n",
       "      <th>BOD5_5</th>\n",
       "      <th>BOD5_6</th>\n",
       "      <th>BOD5_7</th>\n",
       "    </tr>\n",
       "  </thead>\n",
       "  <tbody>\n",
       "    <tr>\n",
       "      <th>count</th>\n",
       "      <td>147.000000</td>\n",
       "      <td>147.000000</td>\n",
       "      <td>145.000000</td>\n",
       "      <td>145.000000</td>\n",
       "      <td>32.000000</td>\n",
       "      <td>31.000000</td>\n",
       "      <td>33.000000</td>\n",
       "      <td>37.000000</td>\n",
       "      <td>37.000000</td>\n",
       "      <td>145.000000</td>\n",
       "      <td>...</td>\n",
       "      <td>33.000000</td>\n",
       "      <td>37.000000</td>\n",
       "      <td>37.000000</td>\n",
       "      <td>145.000000</td>\n",
       "      <td>145.000000</td>\n",
       "      <td>32.000000</td>\n",
       "      <td>31.000000</td>\n",
       "      <td>33.000000</td>\n",
       "      <td>37.000000</td>\n",
       "      <td>37.000000</td>\n",
       "    </tr>\n",
       "    <tr>\n",
       "      <th>mean</th>\n",
       "      <td>101.401361</td>\n",
       "      <td>9.211497</td>\n",
       "      <td>9.168506</td>\n",
       "      <td>9.148126</td>\n",
       "      <td>10.002813</td>\n",
       "      <td>8.483226</td>\n",
       "      <td>6.095152</td>\n",
       "      <td>9.396892</td>\n",
       "      <td>7.598243</td>\n",
       "      <td>0.588168</td>\n",
       "      <td>...</td>\n",
       "      <td>6.982515</td>\n",
       "      <td>3.373689</td>\n",
       "      <td>3.200135</td>\n",
       "      <td>4.972724</td>\n",
       "      <td>4.906379</td>\n",
       "      <td>4.665312</td>\n",
       "      <td>5.871935</td>\n",
       "      <td>8.678788</td>\n",
       "      <td>3.884054</td>\n",
       "      <td>3.957703</td>\n",
       "    </tr>\n",
       "    <tr>\n",
       "      <th>std</th>\n",
       "      <td>64.836640</td>\n",
       "      <td>2.886614</td>\n",
       "      <td>4.188197</td>\n",
       "      <td>3.746898</td>\n",
       "      <td>2.667096</td>\n",
       "      <td>2.527239</td>\n",
       "      <td>3.279915</td>\n",
       "      <td>2.848153</td>\n",
       "      <td>3.409060</td>\n",
       "      <td>0.462262</td>\n",
       "      <td>...</td>\n",
       "      <td>4.466642</td>\n",
       "      <td>2.823756</td>\n",
       "      <td>2.868225</td>\n",
       "      <td>2.044057</td>\n",
       "      <td>2.001381</td>\n",
       "      <td>2.057903</td>\n",
       "      <td>2.555560</td>\n",
       "      <td>5.299039</td>\n",
       "      <td>1.615542</td>\n",
       "      <td>1.916813</td>\n",
       "    </tr>\n",
       "    <tr>\n",
       "      <th>min</th>\n",
       "      <td>0.000000</td>\n",
       "      <td>1.900000</td>\n",
       "      <td>2.200000</td>\n",
       "      <td>2.200000</td>\n",
       "      <td>4.660000</td>\n",
       "      <td>4.900000</td>\n",
       "      <td>0.000000</td>\n",
       "      <td>0.000000</td>\n",
       "      <td>0.000000</td>\n",
       "      <td>0.040000</td>\n",
       "      <td>...</td>\n",
       "      <td>0.670000</td>\n",
       "      <td>0.100000</td>\n",
       "      <td>0.000000</td>\n",
       "      <td>0.900000</td>\n",
       "      <td>1.040000</td>\n",
       "      <td>2.040000</td>\n",
       "      <td>2.480000</td>\n",
       "      <td>2.880000</td>\n",
       "      <td>1.000000</td>\n",
       "      <td>1.600000</td>\n",
       "    </tr>\n",
       "    <tr>\n",
       "      <th>25%</th>\n",
       "      <td>41.500000</td>\n",
       "      <td>7.375000</td>\n",
       "      <td>7.050000</td>\n",
       "      <td>7.200000</td>\n",
       "      <td>8.100000</td>\n",
       "      <td>6.865000</td>\n",
       "      <td>3.290000</td>\n",
       "      <td>8.800000</td>\n",
       "      <td>6.170000</td>\n",
       "      <td>0.230000</td>\n",
       "      <td>...</td>\n",
       "      <td>4.100000</td>\n",
       "      <td>1.440000</td>\n",
       "      <td>1.610000</td>\n",
       "      <td>3.500000</td>\n",
       "      <td>3.400000</td>\n",
       "      <td>3.325000</td>\n",
       "      <td>4.445000</td>\n",
       "      <td>5.840000</td>\n",
       "      <td>2.900000</td>\n",
       "      <td>2.900000</td>\n",
       "    </tr>\n",
       "    <tr>\n",
       "      <th>50%</th>\n",
       "      <td>102.000000</td>\n",
       "      <td>8.800000</td>\n",
       "      <td>8.700000</td>\n",
       "      <td>8.566667</td>\n",
       "      <td>9.522500</td>\n",
       "      <td>7.800000</td>\n",
       "      <td>5.800000</td>\n",
       "      <td>9.805000</td>\n",
       "      <td>7.150000</td>\n",
       "      <td>0.425000</td>\n",
       "      <td>...</td>\n",
       "      <td>6.050000</td>\n",
       "      <td>2.650000</td>\n",
       "      <td>1.900000</td>\n",
       "      <td>4.800000</td>\n",
       "      <td>4.833333</td>\n",
       "      <td>4.150000</td>\n",
       "      <td>5.500000</td>\n",
       "      <td>7.300000</td>\n",
       "      <td>3.400000</td>\n",
       "      <td>3.500000</td>\n",
       "    </tr>\n",
       "    <tr>\n",
       "      <th>75%</th>\n",
       "      <td>158.500000</td>\n",
       "      <td>10.850000</td>\n",
       "      <td>10.600000</td>\n",
       "      <td>10.500000</td>\n",
       "      <td>11.611250</td>\n",
       "      <td>9.232500</td>\n",
       "      <td>9.500000</td>\n",
       "      <td>10.440000</td>\n",
       "      <td>8.700000</td>\n",
       "      <td>0.800000</td>\n",
       "      <td>...</td>\n",
       "      <td>8.550000</td>\n",
       "      <td>4.320000</td>\n",
       "      <td>3.800000</td>\n",
       "      <td>6.450000</td>\n",
       "      <td>6.200000</td>\n",
       "      <td>5.970000</td>\n",
       "      <td>6.400000</td>\n",
       "      <td>8.415000</td>\n",
       "      <td>4.800000</td>\n",
       "      <td>4.400000</td>\n",
       "    </tr>\n",
       "    <tr>\n",
       "      <th>max</th>\n",
       "      <td>214.000000</td>\n",
       "      <td>19.100000</td>\n",
       "      <td>46.950000</td>\n",
       "      <td>40.900000</td>\n",
       "      <td>15.900000</td>\n",
       "      <td>15.400000</td>\n",
       "      <td>11.800000</td>\n",
       "      <td>13.700000</td>\n",
       "      <td>15.900000</td>\n",
       "      <td>2.400000</td>\n",
       "      <td>...</td>\n",
       "      <td>20.050000</td>\n",
       "      <td>10.200000</td>\n",
       "      <td>13.300000</td>\n",
       "      <td>10.900000</td>\n",
       "      <td>11.000000</td>\n",
       "      <td>10.665000</td>\n",
       "      <td>14.790000</td>\n",
       "      <td>27.120000</td>\n",
       "      <td>8.540000</td>\n",
       "      <td>10.370000</td>\n",
       "    </tr>\n",
       "  </tbody>\n",
       "</table>\n",
       "<p>8 rows × 37 columns</p>\n",
       "</div>"
      ],
      "text/plain": [
       "               Id      target        O2_1        O2_2       O2_3       O2_4  \\\n",
       "count  147.000000  147.000000  145.000000  145.000000  32.000000  31.000000   \n",
       "mean   101.401361    9.211497    9.168506    9.148126  10.002813   8.483226   \n",
       "std     64.836640    2.886614    4.188197    3.746898   2.667096   2.527239   \n",
       "min      0.000000    1.900000    2.200000    2.200000   4.660000   4.900000   \n",
       "25%     41.500000    7.375000    7.050000    7.200000   8.100000   6.865000   \n",
       "50%    102.000000    8.800000    8.700000    8.566667   9.522500   7.800000   \n",
       "75%    158.500000   10.850000   10.600000   10.500000  11.611250   9.232500   \n",
       "max    214.000000   19.100000   46.950000   40.900000  15.900000  15.400000   \n",
       "\n",
       "            O2_5       O2_6       O2_7       NH4_1  ...      NO3_5      NO3_6  \\\n",
       "count  33.000000  37.000000  37.000000  145.000000  ...  33.000000  37.000000   \n",
       "mean    6.095152   9.396892   7.598243    0.588168  ...   6.982515   3.373689   \n",
       "std     3.279915   2.848153   3.409060    0.462262  ...   4.466642   2.823756   \n",
       "min     0.000000   0.000000   0.000000    0.040000  ...   0.670000   0.100000   \n",
       "25%     3.290000   8.800000   6.170000    0.230000  ...   4.100000   1.440000   \n",
       "50%     5.800000   9.805000   7.150000    0.425000  ...   6.050000   2.650000   \n",
       "75%     9.500000  10.440000   8.700000    0.800000  ...   8.550000   4.320000   \n",
       "max    11.800000  13.700000  15.900000    2.400000  ...  20.050000  10.200000   \n",
       "\n",
       "           NO3_7      BOD5_1      BOD5_2     BOD5_3     BOD5_4     BOD5_5  \\\n",
       "count  37.000000  145.000000  145.000000  32.000000  31.000000  33.000000   \n",
       "mean    3.200135    4.972724    4.906379   4.665312   5.871935   8.678788   \n",
       "std     2.868225    2.044057    2.001381   2.057903   2.555560   5.299039   \n",
       "min     0.000000    0.900000    1.040000   2.040000   2.480000   2.880000   \n",
       "25%     1.610000    3.500000    3.400000   3.325000   4.445000   5.840000   \n",
       "50%     1.900000    4.800000    4.833333   4.150000   5.500000   7.300000   \n",
       "75%     3.800000    6.450000    6.200000   5.970000   6.400000   8.415000   \n",
       "max    13.300000   10.900000   11.000000  10.665000  14.790000  27.120000   \n",
       "\n",
       "          BOD5_6     BOD5_7  \n",
       "count  37.000000  37.000000  \n",
       "mean    3.884054   3.957703  \n",
       "std     1.615542   1.916813  \n",
       "min     1.000000   1.600000  \n",
       "25%     2.900000   2.900000  \n",
       "50%     3.400000   3.500000  \n",
       "75%     4.800000   4.400000  \n",
       "max     8.540000  10.370000  \n",
       "\n",
       "[8 rows x 37 columns]"
      ]
     },
     "execution_count": 3,
     "metadata": {},
     "output_type": "execute_result"
    }
   ],
   "source": [
    "# Here we have a statistical look at the data\n",
    "d.describe()"
   ]
  },
  {
   "cell_type": "code",
   "execution_count": 4,
   "metadata": {},
   "outputs": [
    {
     "data": {
      "text/plain": [
       "Id          0\n",
       "target      0\n",
       "O2_1        2\n",
       "O2_2        2\n",
       "O2_3      115\n",
       "O2_4      116\n",
       "O2_5      114\n",
       "O2_6      110\n",
       "O2_7      110\n",
       "NH4_1       2\n",
       "NH4_2       2\n",
       "NH4_3     115\n",
       "NH4_4     116\n",
       "NH4_5     114\n",
       "NH4_6     110\n",
       "NH4_7     110\n",
       "NO2_1       2\n",
       "NO2_2       2\n",
       "NO2_3     115\n",
       "NO2_4     116\n",
       "NO2_5     114\n",
       "NO2_6     110\n",
       "NO2_7     110\n",
       "NO3_1       2\n",
       "NO3_2       2\n",
       "NO3_3     115\n",
       "NO3_4     116\n",
       "NO3_5     114\n",
       "NO3_6     110\n",
       "NO3_7     110\n",
       "BOD5_1      2\n",
       "BOD5_2      2\n",
       "BOD5_3    115\n",
       "BOD5_4    116\n",
       "BOD5_5    114\n",
       "BOD5_6    110\n",
       "BOD5_7    110\n",
       "dtype: int64"
      ]
     },
     "execution_count": 4,
     "metadata": {},
     "output_type": "execute_result"
    }
   ],
   "source": [
    "d.isna().sum()"
   ]
  },
  {
   "cell_type": "markdown",
   "metadata": {},
   "source": [
    "###### There are high rates of null values from stations 3 - 7 within the entire data set."
   ]
  },
  {
   "cell_type": "code",
   "execution_count": 5,
   "metadata": {},
   "outputs": [
    {
     "data": {
      "text/plain": [
       "(147, 37)"
      ]
     },
     "execution_count": 5,
     "metadata": {},
     "output_type": "execute_result"
    }
   ],
   "source": [
    "#Our total rows and columns\n",
    "d.shape"
   ]
  },
  {
   "cell_type": "markdown",
   "metadata": {},
   "source": [
    "##### For predicting O2 levels at the target station, we will use O2 reading from station 1 and 2 which has significantly less missing data compared to over 50% in the other columns."
   ]
  },
  {
   "cell_type": "code",
   "execution_count": 6,
   "metadata": {},
   "outputs": [
    {
     "data": {
      "text/html": [
       "<div>\n",
       "<style scoped>\n",
       "    .dataframe tbody tr th:only-of-type {\n",
       "        vertical-align: middle;\n",
       "    }\n",
       "\n",
       "    .dataframe tbody tr th {\n",
       "        vertical-align: top;\n",
       "    }\n",
       "\n",
       "    .dataframe thead th {\n",
       "        text-align: right;\n",
       "    }\n",
       "</style>\n",
       "<table border=\"1\" class=\"dataframe\">\n",
       "  <thead>\n",
       "    <tr style=\"text-align: right;\">\n",
       "      <th></th>\n",
       "      <th>target</th>\n",
       "      <th>O2_1</th>\n",
       "      <th>O2_2</th>\n",
       "    </tr>\n",
       "  </thead>\n",
       "  <tbody>\n",
       "    <tr>\n",
       "      <th>0</th>\n",
       "      <td>12.58</td>\n",
       "      <td>9.875</td>\n",
       "      <td>9.20</td>\n",
       "    </tr>\n",
       "    <tr>\n",
       "      <th>1</th>\n",
       "      <td>9.37</td>\n",
       "      <td>10.300</td>\n",
       "      <td>10.75</td>\n",
       "    </tr>\n",
       "    <tr>\n",
       "      <th>2</th>\n",
       "      <td>8.35</td>\n",
       "      <td>8.290</td>\n",
       "      <td>7.90</td>\n",
       "    </tr>\n",
       "    <tr>\n",
       "      <th>3</th>\n",
       "      <td>9.57</td>\n",
       "      <td>8.820</td>\n",
       "      <td>6.80</td>\n",
       "    </tr>\n",
       "    <tr>\n",
       "      <th>4</th>\n",
       "      <td>6.00</td>\n",
       "      <td>6.000</td>\n",
       "      <td>6.50</td>\n",
       "    </tr>\n",
       "    <tr>\n",
       "      <th>...</th>\n",
       "      <td>...</td>\n",
       "      <td>...</td>\n",
       "      <td>...</td>\n",
       "    </tr>\n",
       "    <tr>\n",
       "      <th>142</th>\n",
       "      <td>6.80</td>\n",
       "      <td>7.700</td>\n",
       "      <td>7.50</td>\n",
       "    </tr>\n",
       "    <tr>\n",
       "      <th>143</th>\n",
       "      <td>5.30</td>\n",
       "      <td>6.300</td>\n",
       "      <td>5.65</td>\n",
       "    </tr>\n",
       "    <tr>\n",
       "      <th>144</th>\n",
       "      <td>8.60</td>\n",
       "      <td>8.600</td>\n",
       "      <td>11.00</td>\n",
       "    </tr>\n",
       "    <tr>\n",
       "      <th>145</th>\n",
       "      <td>9.90</td>\n",
       "      <td>9.600</td>\n",
       "      <td>14.10</td>\n",
       "    </tr>\n",
       "    <tr>\n",
       "      <th>146</th>\n",
       "      <td>6.50</td>\n",
       "      <td>6.500</td>\n",
       "      <td>7.70</td>\n",
       "    </tr>\n",
       "  </tbody>\n",
       "</table>\n",
       "<p>147 rows × 3 columns</p>\n",
       "</div>"
      ],
      "text/plain": [
       "     target    O2_1   O2_2\n",
       "0     12.58   9.875   9.20\n",
       "1      9.37  10.300  10.75\n",
       "2      8.35   8.290   7.90\n",
       "3      9.57   8.820   6.80\n",
       "4      6.00   6.000   6.50\n",
       "..      ...     ...    ...\n",
       "142    6.80   7.700   7.50\n",
       "143    5.30   6.300   5.65\n",
       "144    8.60   8.600  11.00\n",
       "145    9.90   9.600  14.10\n",
       "146    6.50   6.500   7.70\n",
       "\n",
       "[147 rows x 3 columns]"
      ]
     },
     "execution_count": 6,
     "metadata": {},
     "output_type": "execute_result"
    }
   ],
   "source": [
    "#Creating our sample data set.\n",
    "\n",
    "d1 = d[['target',\"O2_1\", \"O2_2\"]]\n",
    "d1"
   ]
  },
  {
   "cell_type": "code",
   "execution_count": 7,
   "metadata": {},
   "outputs": [
    {
     "data": {
      "text/plain": [
       "target    0\n",
       "O2_1      2\n",
       "O2_2      2\n",
       "dtype: int64"
      ]
     },
     "execution_count": 7,
     "metadata": {},
     "output_type": "execute_result"
    }
   ],
   "source": [
    "d1.isna().sum()"
   ]
  },
  {
   "cell_type": "code",
   "execution_count": 8,
   "metadata": {},
   "outputs": [
    {
     "data": {
      "text/html": [
       "<div>\n",
       "<style scoped>\n",
       "    .dataframe tbody tr th:only-of-type {\n",
       "        vertical-align: middle;\n",
       "    }\n",
       "\n",
       "    .dataframe tbody tr th {\n",
       "        vertical-align: top;\n",
       "    }\n",
       "\n",
       "    .dataframe thead th {\n",
       "        text-align: right;\n",
       "    }\n",
       "</style>\n",
       "<table border=\"1\" class=\"dataframe\">\n",
       "  <thead>\n",
       "    <tr style=\"text-align: right;\">\n",
       "      <th></th>\n",
       "      <th>target</th>\n",
       "      <th>O2_1</th>\n",
       "      <th>O2_2</th>\n",
       "    </tr>\n",
       "  </thead>\n",
       "  <tbody>\n",
       "    <tr>\n",
       "      <th>0</th>\n",
       "      <td>12.58</td>\n",
       "      <td>9.875</td>\n",
       "      <td>9.20</td>\n",
       "    </tr>\n",
       "    <tr>\n",
       "      <th>1</th>\n",
       "      <td>9.37</td>\n",
       "      <td>10.300</td>\n",
       "      <td>10.75</td>\n",
       "    </tr>\n",
       "    <tr>\n",
       "      <th>2</th>\n",
       "      <td>8.35</td>\n",
       "      <td>8.290</td>\n",
       "      <td>7.90</td>\n",
       "    </tr>\n",
       "    <tr>\n",
       "      <th>3</th>\n",
       "      <td>9.57</td>\n",
       "      <td>8.820</td>\n",
       "      <td>6.80</td>\n",
       "    </tr>\n",
       "    <tr>\n",
       "      <th>4</th>\n",
       "      <td>6.00</td>\n",
       "      <td>6.000</td>\n",
       "      <td>6.50</td>\n",
       "    </tr>\n",
       "    <tr>\n",
       "      <th>...</th>\n",
       "      <td>...</td>\n",
       "      <td>...</td>\n",
       "      <td>...</td>\n",
       "    </tr>\n",
       "    <tr>\n",
       "      <th>142</th>\n",
       "      <td>6.80</td>\n",
       "      <td>7.700</td>\n",
       "      <td>7.50</td>\n",
       "    </tr>\n",
       "    <tr>\n",
       "      <th>143</th>\n",
       "      <td>5.30</td>\n",
       "      <td>6.300</td>\n",
       "      <td>5.65</td>\n",
       "    </tr>\n",
       "    <tr>\n",
       "      <th>144</th>\n",
       "      <td>8.60</td>\n",
       "      <td>8.600</td>\n",
       "      <td>11.00</td>\n",
       "    </tr>\n",
       "    <tr>\n",
       "      <th>145</th>\n",
       "      <td>9.90</td>\n",
       "      <td>9.600</td>\n",
       "      <td>14.10</td>\n",
       "    </tr>\n",
       "    <tr>\n",
       "      <th>146</th>\n",
       "      <td>6.50</td>\n",
       "      <td>6.500</td>\n",
       "      <td>7.70</td>\n",
       "    </tr>\n",
       "  </tbody>\n",
       "</table>\n",
       "<p>144 rows × 3 columns</p>\n",
       "</div>"
      ],
      "text/plain": [
       "     target    O2_1   O2_2\n",
       "0     12.58   9.875   9.20\n",
       "1      9.37  10.300  10.75\n",
       "2      8.35   8.290   7.90\n",
       "3      9.57   8.820   6.80\n",
       "4      6.00   6.000   6.50\n",
       "..      ...     ...    ...\n",
       "142    6.80   7.700   7.50\n",
       "143    5.30   6.300   5.65\n",
       "144    8.60   8.600  11.00\n",
       "145    9.90   9.600  14.10\n",
       "146    6.50   6.500   7.70\n",
       "\n",
       "[144 rows x 3 columns]"
      ]
     },
     "execution_count": 8,
     "metadata": {},
     "output_type": "execute_result"
    }
   ],
   "source": [
    "# dropping the two missing values\n",
    "d2 = d1.dropna()\n",
    "d2"
   ]
  },
  {
   "cell_type": "code",
   "execution_count": 9,
   "metadata": {},
   "outputs": [
    {
     "data": {
      "text/plain": [
       "target    0\n",
       "O2_1      0\n",
       "O2_2      0\n",
       "dtype: int64"
      ]
     },
     "execution_count": 9,
     "metadata": {},
     "output_type": "execute_result"
    }
   ],
   "source": [
    "d2.isna().sum()"
   ]
  },
  {
   "cell_type": "markdown",
   "metadata": {},
   "source": [
    "### Data Visualization <a name=\"visual\"></a>"
   ]
  },
  {
   "cell_type": "code",
   "execution_count": 10,
   "metadata": {},
   "outputs": [
    {
     "data": {
      "text/plain": [
       "array([[<matplotlib.axes._subplots.AxesSubplot object at 0x000001DC72090F88>,\n",
       "        <matplotlib.axes._subplots.AxesSubplot object at 0x000001DC727EB248>,\n",
       "        <matplotlib.axes._subplots.AxesSubplot object at 0x000001DC7281EE08>],\n",
       "       [<matplotlib.axes._subplots.AxesSubplot object at 0x000001DC7285A208>,\n",
       "        <matplotlib.axes._subplots.AxesSubplot object at 0x000001DC728912C8>,\n",
       "        <matplotlib.axes._subplots.AxesSubplot object at 0x000001DC728C9408>],\n",
       "       [<matplotlib.axes._subplots.AxesSubplot object at 0x000001DC72909F48>,\n",
       "        <matplotlib.axes._subplots.AxesSubplot object at 0x000001DC72939608>,\n",
       "        <matplotlib.axes._subplots.AxesSubplot object at 0x000001DC72945208>]],\n",
       "      dtype=object)"
      ]
     },
     "execution_count": 10,
     "metadata": {},
     "output_type": "execute_result"
    },
    {
     "data": {
      "image/png": "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\n",
      "text/plain": [
       "<Figure size 720x360 with 9 Axes>"
      ]
     },
     "metadata": {
      "needs_background": "light"
     },
     "output_type": "display_data"
    }
   ],
   "source": [
    "# First a scatter plot is created to view the distribution of the data.\n",
    "\n",
    "scatter_matrix(d2, figsize=(10,5))"
   ]
  },
  {
   "cell_type": "code",
   "execution_count": 11,
   "metadata": {},
   "outputs": [
    {
     "data": {
      "image/png": "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\n",
      "text/plain": [
       "<Figure size 432x288 with 1 Axes>"
      ]
     },
     "metadata": {
      "needs_background": "light"
     },
     "output_type": "display_data"
    }
   ],
   "source": [
    "a1 = sns.distplot(d2)"
   ]
  },
  {
   "cell_type": "code",
   "execution_count": 12,
   "metadata": {},
   "outputs": [
    {
     "data": {
      "text/plain": [
       "<matplotlib.axes._subplots.AxesSubplot at 0x1dc72c0f848>"
      ]
     },
     "execution_count": 12,
     "metadata": {},
     "output_type": "execute_result"
    },
    {
     "data": {
      "image/png": "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\n",
      "text/plain": [
       "<Figure size 432x288 with 1 Axes>"
      ]
     },
     "metadata": {
      "needs_background": "light"
     },
     "output_type": "display_data"
    }
   ],
   "source": [
    "d2.plot(kind='box')\n"
   ]
  },
  {
   "cell_type": "markdown",
   "metadata": {},
   "source": [
    "###### A few sigle widely dispursed outlaires can be observed from the scatter plots and further observed in the histogram.\n",
    "###### In order to get a better picture, a line graph wil now be created."
   ]
  },
  {
   "cell_type": "code",
   "execution_count": 13,
   "metadata": {},
   "outputs": [
    {
     "data": {
      "text/plain": [
       "<matplotlib.axes._subplots.AxesSubplot at 0x1dc72b06f08>"
      ]
     },
     "execution_count": 13,
     "metadata": {},
     "output_type": "execute_result"
    },
    {
     "data": {
      "image/png": "iVBORw0KGgoAAAANSUhEUgAAAeAAAAD4CAYAAAA0JjXXAAAABHNCSVQICAgIfAhkiAAAAAlwSFlzAAALEgAACxIB0t1+/AAAADh0RVh0U29mdHdhcmUAbWF0cGxvdGxpYiB2ZXJzaW9uMy4xLjMsIGh0dHA6Ly9tYXRwbG90bGliLm9yZy+AADFEAAAgAElEQVR4nOy9eXxcV333/z6zSKN9ly1ZXhM78ZY4ibNAgABZWEJCaKEtSx/aBwg8lDbQ8oMUaAulFFoooS1NWcISKBDI1iRA9j1xNjvxJnmRrcXWPpJm3++95/fHnRlJ1jayRxpL/r5fL788c+fOnTOje+/nfNejtNYIgiAIgrCwOAo9AEEQBEE4ExEBFgRBEIQCIAIsCIIgCAVABFgQBEEQCoAIsCAIgiAUANdCflh9fb1es2bNQn6kIAiCIBSMXbt2DWutG6Z6bUEFeM2aNezcuXMhP1IQBEEQCoZSqnu618QFLQiCIAgFQARYEARBEAqACLAgCIIgFIAFjQELgiAIS49UKkVPTw/xeLzQQykYHo+HlpYW3G53zu8RARYEQRBOiZ6eHioqKlizZg1KqUIPZ8HRWjMyMkJPTw9r167N+X3ighYEQRBOiXg8Tl1d3RkpvgBKKerq6ubsARABFgRBEE6ZM1V8M5zM9xcBFgRhaZCMwJ47QJZYFRYJIsCCICwNDj0I934cfJ2FHomwwPj9fm699dZ5/5ynnnqKHTt25O14IsCCICwNjHT8zUgWdhzCgjNXAdZaY1nWnD9HBFgQBGEqLMP+X5uFHYew4Nx8880cPXqUbdu28ZnPfIYrr7ySCy+8kK1bt3LfffcB0NXVxcaNG/nkJz/JhRdeyPHjx/nRj37Ehg0bePOb38zHPvYxPvWpTwHg9Xr5wz/8Qy6++GIuvvhinn/+ebq6uvje977HLbfcwrZt23j22WdPedxShiQIwtIgI8CZ/4WC8JUHWmnrC+b1mJuaK/mH6zZP+/o3vvEN9u/fz+7duzEMg2g0SmVlJcPDw1x22WVcf/31ABw6dIif/OQn3HrrrfT19fHVr36VV199lYqKCt761rdy/vnnA3DTTTfxmc98hje84Q0cO3aMt73tbRw4cIBPfOITlJeX89nPfjYv30sEWBCEpYGVtnxFgM9otNZ84Qtf4JlnnsHhcNDb28vg4CAAq1ev5rLLLgPg5Zdf5oorrqC2thaA973vfRw+fBiAxx57jLa2tuwxg8EgoVAo72MVARYEYWmQtYDFBV1IZrJUF4Jf/OIXeL1edu3ahdvtZs2aNdn63LKysux+eoZsecuyeOGFFygpKZnXsUoMWBCEpYG4oM9YKioqshZqIBCgsbERt9vNk08+SXf31KsBXnLJJTz99NP4fD4Mw+Duu+/OvnbNNdfw3e9+N/t89+7dkz4nH4gAC4KwNBABPmOpq6vj8ssvZ8uWLezevZudO3eyfft2fvGLX3DuuedO+Z4VK1bwhS98gUsvvZSrrrqKTZs2UVVVBcB//Md/sHPnTs477zw2bdrE9773PQCuu+467r33XknCEgRBmIDEgM9ofvnLX866z/79+yc8/8AHPsCNN96IYRi85z3v4ZprrgGgvr6eX//615Pev2HDBvbu3ZufASMWsCAISwWJAQtz5Mtf/jLbtm1jy5YtrF27lhtuuGFBP18sYEEQlgbighbmyLe+9a2Cfr5YwIIgLA1EgIVFhgiwIAhLA4kBC4sMEWBBEJYGEgMWFhkiwIIgLA3EBS0sMkSABUFYGogAC4sMEWBBEJYGIsBnND09Pbz73e9m/fr1nHXWWdx0000kk0keffRRLrroIrZu3cpFF13EE088MeNxvvjFL7Jy5UrKy8vnfcwiwIIgLA1MEeAzFa01f/AHf8ANN9xAe3s7hw8fJhwO88UvfpH6+noeeOAB9u3bx+23386f/umfznis6667jpdffnlBxi11wIIgLA0kCev04MGbYWBffo+5fCu84xvTvvzEE0/g8Xj48z//cwCcTie33HILa9eu5Stf+QqlpaUAbN68mXg8TiKRoLi4eMpjZVZLWgjEAhYEYWkgLugzltbWVi666KIJ2yorK1m1ahVHjhzJbrv77ru54IILphXfhUYsYEEQlgYiwKcHM1iq84XWGqXUjNtbW1v5/Oc/zyOPPLLQw5sWsYAFQVgaSCOOM5bNmzezc+fOCduCwSDHjx/nrLPOoqenh/e85z387Gc/46yzzirQKCcjAiwIwtJAYsBnLFdeeSXRaJSf/exnAJimyd/8zd/wZ3/2ZySTSa699lq+/vWvc/nllxd4pBMRARYEYWkgLugzFqUU9957L3feeSfr169nw4YNeDwe/vmf/5nvfve7HDlyhK9+9ats27aNbdu2MTQ0NO2xPve5z9HS0kI0GqWlpYUvf/nL8zdurfW8HfxEtm/frk90EwiCIOSFn74Lup6FN34Wrvy7Qo/mjOLAgQNs3Lix0MMoOFP9DkqpXVrr7VPtLxawIAhLA4kBC4sMEWBBEJYGc3BBD0YGeff/vpu+cN88D0o4Xbn00kuzLunMv3378ly/PAtShiQIwtJgDklYHYGO7L/m8uZ5HphwOvLSSy8Vegi5W8BKKadS6jWl1G/Tz9cqpV5SSrUrpX6tlCqav2EKgiDMwhws4ISZAMAQd7VQQObigr4JODDu+b8At2it1wM+4CP5HJggCMKcmEMMOG7EAUhZqfkckSDMSE4CrJRqAa4Fbks/V8BbgbvSu9wO3DAfAxQEQciJOVjAcdMWYLGAhUKSqwX8HeBzgJV+Xgf4tdaZs7cHWDHVG5VSNyqldiqldnq93lMarCAIwrTMIQacsYBFgIVCMqsAK6XeBQxprXeN3zzFrlMWFGutf6C13q613t7Q0HCSwxQEQZiFuVjA4oJecuRjPeBoNMq1117Lueeey+bNm7n55pvndcy5WMCXA9crpbqAO7Bdz98BqpVSmSzqFkDy+QVBKBxziQGLC3pJkc/1gD/72c9y8OBBXnvtNZ5//nkefPDBeRv3rGVIWuu/Bf4WQCn1ZuCzWusPKqXuBN6LLcofBu6bt1EKgiDMhljApwX/8vK/cHD0YF6PeW7tuXz+ks9P+3q+1gMuLS3lLW95CwBFRUVceOGF9PT05PW7jOdUGnF8HvhrpdQR7Jjwj/IzJEEQhJMgI6Y5xIClDGlpMR/rAfv9fh544AGuvPLKvI83w5wacWitnwKeSj/uAC7J/5AEQRBOgjlYwDEjBogFPB/MZKnOF/leD9gwDN7//vfzV3/1V6xbty7v480grSgFQVgazCEGnLGARYCXBvleD/jGG29k/fr1fPrTn56vIQMiwIIgLBVOIgYsLuilQT7XA/7Sl75EIBDgO9/5znwPWwRYEIQlwhzqgGOmuKCXEvlaD7inp4evfe1rtLW1ceGFF7Jt2zZuu+22eRu3LMYgCMLiR+u59YI2JAlrqbFy5UoeeOCBSdu/9KUv8aUvfSmnY7S0tKD1lC0t5gWxgAVBWPxoa+zxXMqQTLGAhcIhFrAgCIuf8aI7l0YcWizgM5VLL72URCIxYdvPf/5ztm7dumBjEAEWBGHxM0GAc+8FLRZw/piuFOh0Jd/rAZ+M61pc0IIgLH7maAFnG3GIBZwXPB4PIyMjCxo/PZ3QWjMyMoLH45nT+8QCFgRh8TPe6tWyGtJC09LSQk9PD2fyincej4eWlpY5vUcEWBCExc8cLeBsGZK4oPOC2+1m7dq1hR7GokNc0IIgLH7mIMCGZWQtX3FBC4VEBFgQhMVPVnTVrElYmfgviAUsFBYRYEEQFj8ZAXaXzGoBZ+K/IBawUFhEgAVBWPxkrF5n0ewCbI4TYEnCEgqICLAgCIufjJC6PLMKcKYNJYgLWigsIsCCICx+sgJcPGsMOJMBrVDighYKigiwIAiLn4wlm4MFnIkBl7vLxQIWCooIsCAIi5+M1esqztkFXV5ULhawUFBEgAVBWPycGAOeoSVixgVdXiQWsFBYRIAFQVj8jI8Bw8TlCU8gYwFXuCskC1ooKCLAgiAsfsZbwOOfT0GmDElc0EKhEQEWBGHxMz4GDDMLsCRhCacJIsCCICx+TsICriiqEAtYKCgiwIIgLH4mCfD0tcAZC7jMXSYWsFBQRIAFQVj8nJiENYsFXOQooshZhKGNM3YReaHwiAALgrD4mYsL2ojjcXlwO9yA9IMWCocIsCAIi585JGElzAQepweXwwVAyhI3tFAYRIAFQVj8zMECjhmxiRawJGIJBUIEWBCExU92PeDZk7ASRgKPa5wFLIlYQoEQARYEYfEzlyxoMz7BBS0xYKFQiAALgrD4mWMjjvEuaIkBC4VCBFgQhMXPHBtxFDuLxQIWCo4IsCAIi59JdcAzN+IQC1g4HRABFgRh8ZMRYOfcy5DEAhYKxawCrJTyKKVeVkrtUUq1KqW+kt6+Vin1klKqXSn1a6VU0fwPVxAEYQrmEAOeVIYkAiwUiFws4ATwVq31+cA24O1KqcuAfwFu0VqvB3zAR+ZvmIIgCDOQcSPn2ojDJY04hMIzqwBrm3D6qTv9TwNvBe5Kb78duGFeRigIgjAblgHKCWmrdjoB1lrbMWCnWMBC4ckpBqyUciqldgNDwKPAUcCvdbaFTA+wYn6GKAiCMAuWAQ6X/Q+mTcIyLANTm5KEJZwW5CTAWmtTa70NaAEuATZOtdtU71VK3aiU2qmU2un1ek9+pIIgCNNhmWkBdqafT23VZtYCljIk4XRgTlnQWms/8BRwGVCtlEpPN2kB+qZ5zw+01tu11tsbGhpOZayCIAhTM8kCnkaA02sBl7hKxAIWCk4uWdANSqnq9OMS4CrgAPAk8N70bh8G7puvQQqCIMyIZdjW72wCLBawcBrhmn0XmoDblVJObMH+jdb6t0qpNuAOpdQ/Aa8BP5rHcQqCIExPjjHgjAUsMWDhdGBWAdZa7wUumGJ7B3Y8WBAEobBkBXjmGHDCTAC2C1osYKHQSCcsQRAWP9kkrJld0DEjBkx0QYsFLBQKEWBBEBY/ucaAxQUtnEaIAAuCsPjJMQs644KWXtDC6YAIsCAIi59JMeCpk7AyLmjpBS2cDogAC4Kw+LFMcOZuAUsMWDgdEAEWBGHxcxKNOJzKtpbFAhYKhQiwIAiLn1wF2BxLwlJK4Xa4xQIWCoYIsCAIi58TBVhbU+4WN+IoFEUOe/lyl8MlFrBQMESABUFY/GTrgB2AmtEFnbF+AbGAhYIiAiwIwuInUwcMthDP4IIudhZnn4sFLBQSEWBBEBY/ZmrM/exwzmoBZ3A73CLAQsEQARYEYfGTiQFD2gKeug44YSbwOMcE2OVwiQtaKBgiwIIgLH4yMWAQC1hYNIgAC4Kw+JlDDFgsYOF0QQRYEITFzyQX9PQWcLFrLAlLLGChkIgAC4Kw+MlVgM04Jc6S7HMpQxIKiQiwIAiLn0kx4KmTsE60gKUMSSgkIsCCICx+TiEGLAIsFAoRYEEQFj85uqATRmJSFrS4oIVCIQIsCMLiZw4xYLGAhdMFEWBBEBY/OcSAtdZT1gGLBSwUChFgQRAWPznEgJNWEo2eIMBiAQuFRARYEITFTw4u6LiRXgvYKRawcHogAiwIwuLHMsDhth/PIsAnliGJAAuFQgRYEITFjWUBetbFGOLmZAtYXNBCIREBFgRhcZMR0GwMeOrFGLIuaEnCEk4TRIAFQVjcZAV4lhiwWMDCaYYIsCAIi5scBThhJACxgIXTBxFgQRAWN1MKsDVpt5ksYK31vA9TEE5EBFgQhMXNKcSAXWnRNvXUizcIwnwiAiwIwuLmRAtYTSPAU1jA7nTpkrihhUIgAiwIwuIm1ySsGSxgScQSCoEIsCAIi5spBXiKOuBpypBALGChMIgAC4KwuMmI7YTFGHIvQwKxgIXCIAIsCMLiZlIS1vQuaKdyZkUXxAIWCsusAqyUWqmUelIpdUAp1aqUuim9vVYp9ahSqj39f838D1cQBOEE5tCIo9hZjFIqu00sYKGQ5GIBG8DfaK03ApcBf6GU2gTcDDyutV4PPJ5+LgiCsLDkGANOGIkJ8V8Ys4BFgIVCMKsAa637tdavph+HgAPACuDdwO3p3W4HbpivQQqCIEzLHGLA4+O/IC5oobDMKQaslFoDXAC8BCzTWveDLdJA4zTvuVEptVMptdPr9Z7aaAVBEE4kxxhwzIhNsoDFBS0UkpwFWClVDtwNfFprHcz1fVrrH2itt2uttzc0NJzMGAVBEKYn117Q5vQuaLGAhUKQkwArpdzY4vsLrfU96c2DSqmm9OtNwND8DFEQBGEGphJgbcIJ/Z3jxmQXtFjAQiHJJQtaAT8CDmitvz3upfuBD6cffxi4L//DE4SlgdaaA/05O46EuTCVAMOkRKy4GZ/WBZ0yxQIWFp5cLODLgT8F3qqU2p3+907gG8DVSql24Or08zOW9sEQtz3bUehhCKcpO46O8I5/f5YjQ6FCD2XpkRFa57gkLJjkho4bdhnSeLJZ0FosYGHhcc22g9b6OUBN8/KV+R3O4uWe13r576eO8sFLV1NS5Cz0cITTjIGA3YVpKJTg7MaKAo9miTGtBTxRVKeKAWctYIkBCwVAOmHlCX/UvoB90WSBRyKcjoTi9vkRjoullXdyFOCYEZMyJOG0QgQ4TwRitvCORkSAhcmEE7YYRJIiwHkn1xiwMX0MWJKwhEIgApwnqgMH+SvnPWIBC1MSSlu+YgHPA1M14oCcXNBuZ9oCliQsoQCIAOeJC4OP8dfuuwgEAoUeinAaEswIcGJyi0ThFMmI5/hGHDBBgC1t2QJ8YhmSSlvAkoQlFAAR4DxRkvIDEPMPFngkwulIJgYcSciNPu/kEANOmAkAKUOaJwaDcQIx+Q3nighwnjju8nJzQx2JgAiwMJlMDDgsApx/chDguGFnoU8qQ3LKYgz54M9/8gpf//2BQg9j0SECnAcM0+JwaZjflZcRD/cVejjCaUg2BiwCnH+miwFrK7tLxgIucZVMeKu4oPNDrz9GX7rUTsgdEeA8EIwbRFy2+yUaEwEWJiNlSPPIpMUYJidhxYwYML0FLC7ok8e0NMF4SlzQJ4EIcB7wR5OEXPYsPJ6UltjCZDIWsJQhzQNzcEFPigGLBXzKBGMptIaQCPCcEQHOA4FIlBGn3SzMMEYKPJrTn5f7X+bjj378jIq7hcUFPX/MIQmrxDnRBa2UwqVcYgGfAv608IoFPHdEgPNA2OdlyGW7vVKWlCHNxrM9z7Cjbwfe6JmxPrRlacJJqQOeNybFgCc34si6oF0TXdBgu6HPpMlgvsn0PgjEUugTVqASZkYEOA/4/J0YyraAUyoiJ+Es9Pa+BMBQ6HiBR7IwhJNGdmU8KUOaBzLiqaaPAU9XhgS2G1paUZ48gXQbXsPSRJNS5z4XRIDzwHCgO/vYdMbEzTgL3cFeAAa9Bws8koUhY/WWuJ2E5NzIP5YBygGO9O1sphiwc7IAL7QFfPeuHm559PCCfd58M777XzAuE5m5IAKcB/zRnuzjpDMl/aBnod+MAHDce6TAI1kYMglYTVUeIglDPCT5xjLGRBemFmBz6iQssC3ghUzC+u3ePu7cuXS8P5mFaEDiwHNFBDgPBBN2841y7SDqNEWAZyCSihBy2PWZ/YGlcxOaiUwJ0vIqD5aGeMqa5R3CnMhFgKdpxAG2BbyQSVi+aIqRSHLJTMT80SSuyj04Szqz7mghN0SA80AoNQrAGlctIScEgpKINR294d7s4+HYmVGyFYob1BPgM+FvU0KcUEJuUnnFMk8QYOfY9jQZAT6xEQfY7SjnzQXdtxtOEFp/NEnCsIillka81B9LUdz4e4rqnsn2PBdyQwQ4D4R1kCrTotFTi8/pIOo7M4TlZOjzdwLg1pqRpL/Ao1kYQgmD1ztauTjwMFtVJxFZkCG/zMEFPZUFPG9JWL2vwg+ugO7nJ2z2pa3EpeIpG40kUa4wyhUUF/QcEQHOAyEi1JpQX1qHz+E8o/pBJxKxOe3fO2z3i92USOLX0fkY0mlHKJ6iTtlekRoVnrdM6CO+I1x919UMRAbm5finLTm6oF0OV3bxhfHMWxLWcDrRKjjWHS/TNQqWjgCPxHwoZYoAnwQiwHkgpBJUWy4aypcRcjpIBPsLPaQFYf/zD6D/eSXDfd2z75ym13+UEstidRJG1ZnhrgrFDepUEIAqFc4mZeWb5/ueZyAywFH/0Xk5/mlLDgKcMBOTmnBkcCkXKT0PwuFLXxexMU9PIN01CpaOAPsSdghOucL4otIPei6IAOeBgNOkGg+15U0ARKK9s7xjaRA9vhePStF7dG/O7zkWPE6zYZBM1RB0QNJcGjehmQjFUzSkBbiG+bOAW0daAfAlfPNy/NOWSTHgqRtxTNWEA9IWsJn/v4n2dfOKpxgdHc1uG1+yM/7xYsafEWCl8UaHp9wnGE+xv3fhcmPuePkYtz3bkdO+o/FR2n3t8zyiqREBPkUM0yDg1FSpMqorVwAQi58hLuiIfbGFvMdyfktvbJgmw8SfWg6A15/bRbKY2DW4i85AZ/Z5OG7Q6AwBtgt6vurED4zY7n1//MyIrWexjLHEK5i2EcdUNcBgJ2HNRwx4X6Cd/9u0jJeCY+V2/nGiOxJeGgIcMcbOt+HY1N3tfvhMB3/43zswzIWpALjntV7ueCW3Kot/2/lvfOLRT8zziKZGBPgU6Q8PYylFlauKmrJmAJKpM6MftDNmC3BytGeWPccYMMPUpFykWAaA9ySbcbSPdvGrPT/n+4//NV+/6waOdjx+Usc5kTsP38n7HnjfKR3jS899iVt335p9HoobWQu4mtC8CHAkFaE7aLs8zzwLOJVTDHiqGmBI1wHPQwy4M2yHorpDY0mZvsiY0C8FC9gwLeLWmAD7ElNbwIcHQyQMa8Hc7v5olOFIKKd993r3MhQbKkg/8MkZCcKc6PDaFlxNUR21JbUAJK0z4wZYFE+7noK5LcEYTAYJY1KSKqGybC3wAl7/yTXj+H/3/jGDrrEkLveu7/LZdVee1LHGc3DkIAdHD5IwE1NmzOZCMBlkKDp20w3GDWpVCLRtAXfNgwAfGDmAxg4unpkW8MwCHDNj01rAbqebVL5Lw0yDASMIVDESG3O9+qJJrnbspFmNMBr5WH4/swAEYilKXKNkCq0C0xgfXcP2teoNJ2isnPrvkE+GPD8nURTGMN+Jyzm9nRlOhukKdgEwHBumKR1GXCjEAj5FekfshJe60uVUF1cDkCRcyCEtGJ50/XNxLLes276wLdTOVCXLGs8FYCCQewJXhoN9hxh0RfmDYClvGfgodYbFsWB+Jj2htFV/siKmtSaSijASH7sRhRMpos4QH13eiNs5PxbwgVHb/VytHfgiZ0gIJEMOMeCEkZjRAs67CzrYy0D6xh80xiaK/miKP3E+yafc9+NbAklYvqgtwHWGiUNrYsZkC9iyNF0jdvc7byixIONKOfpxFA8wOouXIXPdAAwVoC+BCPBJMBpJYln2nG/Qb8c/GypWUl1cjdJgOKKY1tLocjMT5Slb9CqTQzl19ekN2jEZw6hn1YotuLRm4CQyxu976UcAvHnrR/iPz99EuaUIWfkpaQoP7gfAHxudZc+piZtxTG0yEhsT4EQsQlux5qUSD15PZF4EuG2kjUaHh3WJKP7gmdFhLEsOMeC4EZ8+CcsxD2VI/mP0u+yJQFiPZQaPRpPUqyB1+AmEF38ZXiCWxO0K0Gia1Jkmlp48+RsIxkkYdux3eI5x70fbBvn3x+aWIBVPmeAMo1whvKGZs7L3D+/PPh6eJoFsPhEBPoFwMszj3dPHEyPxFD/+l0/zu2deBGA42odDaxprVuN0OCnHSdKZWnL1cL64L9tNKENlOvbTwGhOsZ3e0UwD+hU0VldQY2qGYnOPl+8d2UFTyuSNr/sQAKWWiwj5+b3DSTtW6wvlHtceTyRlz/TDqXB2CTxnbJQhpy0KIXdiXpYkbBtpY2MiQY1p4UuICzq7PU3cjE9bhuQM9GKMdkBqbjXtM6F9XVkBHn9u+qNJ6h0hHGjUEqjX9kVS4IpQa5o0mCYw+XruGo5kH8/VAv7Fswf45ZOvkppD8tZoJGE3BlEWXbM0RWodaaXMXWaPbZoEsvlk0Qrwbc92cPPduZe/5Mq/vvKvfPqpT09bSznY28FnHb+gbO9PARiNeakzTcqr7dhBpSom7jTmPdngviP38U8v/BOv9RznsbZBXjg6wlAoflL9ZbVlcfClR9DW9Cf5h37/If5r93+NbUjFKSNGAjcNBOgenr3EoNd3hDLLwvSspqGimErDybCRW6JEhkQqzmGnn82pSlzFpQCUaDfhPNUUh9KTDH8w98zu8YSTY+GHjBVcnBjJCvCI2yCS53hjNBWlM9DJprCfatPCn5pbCCRpJtnj3ZPXMS0oJwqwmpsFHB31ksIi1NOWtyEF+4/Sn14jPOwws+0ofZEUtdiTPE908QuwP5bCcMapN00aDRPtDJEwJnZ66xwZE+DhcO4CbFmaVf5vcl39l+n05n5O9wZHUMq+lx0LzJyf0jrcymVNl+FQjgl5GwvFohXgXn+M+3b35dXVe9h3mP89ci8Ar3Y+MuU+wX5bmBsDuwHwG34aTJOKWjurt8pZuiD9oL/z0v/w68O/5kMPv5dP3Pd93v/DF7jka4+z/Z8e45WuublPD7z4EOc++D7ann9gytfjRpxjoWMTauXMsD1b7Cs+C4fSOTXj6AvZNcBGeQsN5cUUG0WM6LnNiH+389fEHYotNZdmt5XoEsKOPJQ3pGKEsW/avtDJ1XJnLGCwkzq01pSkRvGmb8Z9LidGfG6Tjtk45DuERrMxmaLcWYpfz63R/31H7+NDv/8QOwd25nVcC0YuMeAZypBUIoKB4vihV2f9qKFgnK880DpJZE6kf6idWHp5xIDDAemJWSQSpAR7kleeGMiGshYrvkiCuDNJnVY0miaGK0owNnEy3D0SpdjloKWmZHoLOOaDH14J3kPZTZ0jEbrL+ri7xsnRztyrJY75x9zgPaHp8yH8cT894R621m+lzlPHcExc0DmzpbmKWMqkYw4zo9n49nN/T7lpUWOa7Gq7c8p94l67vnO9cYRoNILfDNFgWJRV1QNQVVTJqMfnKegAACAASURBVNNBeHT+ZrePHxhkKDpEJRtYVbGakuY7adzyNTZs+wlW3Z38w29fntMNOHx8HwCRzlemfH0wap/Erd6x2tZI+vtFazcD4B+c3WLsjXlZkTJQ1S3UlxfjNMoYVdakZvUz8ezhe3FrzVWXjWWQehylBB1qRgs+J0Y7CKVvmv5pZsN94T7edMeb2D20e8rXxwvwSGyEhGFRrQNZC7jH5cJxkvHl6WgbthtwVBWdgzdWjYHtAs/5/QO7APj+nu/ndVwLxqQY8GQBnqkMqdiIklIQON4660c9uH+Anzzfxa6umZP+BtMlYUXaZQtwLL1/ZMxFu4zRRR+q8kYCmA6oK6mn3oKkK8VwODJhn87hCKvrSmmsKJ7eAu7bDb07ofOZ7Ka9PX4SriSGUhzveDTnMfWHx67dmazathHb47G5fjMNpQ3igp4LW1uqANiXp+4qL3Q8zPOjrfyR36IxWslrsf4Js7EMVrq9XLEyONb6An7iVJkOlNO+6Os8tfgcTuL++clEDURT3HzPXpzuENdvvIzfve8OvlFzMddbLlYmjmOVvoA39Qse3J/7BCA6epAv19WSGpnapd8dsK3BQGoIS9siF/Xbx082bAEgPjJz4o/Wmt5UgAYDyqvqKCly4rCqCDgdJELpRKxAD8SDMx6nLdXJlrhi9Zot2W0lzgpMpQidogvJ9B4ikhZg3zSx6Z2DO/ElfNx5eOoJ2njhG44NE4ynqCOYtYB73C6c8fyWqbX1vkidYXL/6AXEDDsT3z9NQsl/7/nvSZZue/9OHFrz4sCLi9MVPSkG7ABUTmVIKdOizIxhKIVjePL1fiLtQ7b3oq1/5vM0kLJv5s3OBgJOB7GQfT45xv1dmtTorFm6pzsDEfuaq/PUUeOsAKA7MPHe0zUcYU1dGQ0VxdNbwH77vqoDY7kXe475iTrt+82ob3bvRIbByNhvPF1jEBjrHLepbhMNJQ1iAc+FdfVleNwO9vfOfCHkgmUafPvZL9KcMnjC9xccib2ePreLgSf+YdK+rtBxflxRze7iIkYPPUPYYVBhurOvN5Q34nc6SM7Tggxf+W0ro7EgWqVYXtaI49iLXPvq3XwpGOdHiVLeHo1D9R6++cjenLvO7E4d5u7KcrqtqePebUO2dasxsidp3D9ACthbYcfVdGBml20gESCqTUpTJTSk3+NUDQB4va0QD8D33gCPfXnaYxzu20+f22K96+wJ20vdNfZnBE4ubpshMq4piG+aMqRMt6nHuh/LJlmNxz/Ovdwf9hKKG9SqAF6nkzKnh6jDAUZ+vSNt3t1sSib5vXExhsMOhfiyCW/jx+bn1t238suDv8xus7TFkfgw14UjVDuK+MHeH+R1bAvCiQIM9vO0ABuWgWEZU1rAnQOjVJIgpRT18S6SxszXTPugPcFq65vhvmMkCTpsK3C1ZxURh4Nhbx9aa4oSY96PJjWy6PtBj6R7AdSVNVJbZF+HveGxe59labpHo6ytL6O+fHoLeLTXDm/1dI5Ngo4c78HvVACEza6cxzScmTzrIgKp6UV1//B+VleuprKokvqSeokBzwWX08Gmpsq89BdtPXQvB0nQPLKZP3nX9ayo3A7A7mNPQ/9EiyCW6OGW+ko+3LSM34QfA6BMj2VX1lcsx1SKaCT//aCfPuzlnld7+eDrbCunoaQBnvkmlDXAjU/DjU/y/jXvJO7QJIzfcs+ruY3hoNsWm4AjhBWf7Lo8Mq7TVaaW1wgO8fvyMr7V9z32FZfhmiWjM7MOsDNVSX15kf24yG7d6R1th5d/aLvphqZPhHngpR8CcMnZfzBhe2lxHQBDvlMT4PA40RpJTh2nPTB6gDJ3GVEjyk93/46P/3znhInOSNQ+H51a0+0fIBw38Lh8GEqxrcaufTbI32IdMSNGRzJAVbySqy/eyvLGDQCMeicL8L7hfRP+B/vvGcHk/ESC/5N08UzPM1nX3KLhxBgwTBDghGnf9KeygLu7juDWGgNYzQCtx2d2Qx4Zsq+P1hkEODLczYDLiQsnKyvWADDgO040aVJp2edHonK1bQGPF+CTSKAsNKGELbZ1FSuoL7MTUQfGCXBfIEbSsFidtoB90dSUGc2RQXvyHxu2LeGUaREY6MCfiaO7QwQiuS30MJoYRWsnJSwnYkwf7mkdaWVT3SYAGksb8cV987cu9DQsWgEG2LKiita+wCknMuzqtNfrXLb8et5/yUresmYbWG5eLauEJ78+Yd+4tmdUKw0Pj5fYN+kyKrKv11S2ABCN5X9FpF++1M2yymKuOd/O/m2IjMLRJ+B1n4Iie9v5b/o7NiYNyuue55bHDs2aLJJMRtiTvi91FbnwdkyObfaEelE689gWYyvs5YDbtmR3ltVSmRqy6++mIdNthmRt1gIuLl0HgHfkELyQzrAemX4lnz0jr9CUMrnidRNbRVaW2Fbf4CxW+GyEfHaMW2nwT2HdWtri4OhB3rXuXSwrXcYdbf/Lw62DDATHbgz+dIxvZcqgP9hLKG7gcto33QsaLwDAcAyfVLb6VLR2P42lIJQ4h5uuXM/qlq0A9AxNrp3cO2yHGAYiA3ijttBkEus2pEz+pOcwFe5yfrj3h3kZW95JhLMrC/3Pi928diztyj8xBgxpAbbPx0z53FQW8HBvBy40WimUsmg/OH1lxUg4wUgkSaXHxRFveNrzvbfzAP1OJ/WuGpZV2e1pvYF+fNEktemWpNay82hSI2PNOKKj8C+r4fDDuf0Wpwlmwp6Q11etZVnlKgCGomMCnOmAtaa+lPpy+7qfqge2I91PoSIxwFAwzqGBEFWqD61sC7jL7aD7cG7hkVDShzLLKXPWkdBTh3uGY8MMRgfZXGfnsNSX1KPRE+r3F4JFL8CRpDkhzf1kODByiDLL4gNvvhalFG9YvwwjtpqXymptgcuslGKZxBz2BfR+95X869Awl8YStKRdqQC16VlgLM/9oKNJg6cPe3n75uX4k/ax6/feBSU1cPFHsvup8nreX7+dfncKZTzH7mMz14TuOPAgYYcDl3bQ5Xbh69g1aR9vtI+zU/ZF0+G3Y70q6uVQkW357y8tYbkapcc3fWOBLl+73Skn2URD+kKsrFhvH7/9QYiNwjnXQmRoyjiwYaY47AxyVrIST/HEG2l1hW1JjwRPwbWrNaG0C7vKcBCYYnm646HjRFIRNtdt5qpVb2fE2odyhick0gQiI7i0psk08Ef7CcVTWG77/Lyg+XX2d3H5s40JTpWXj9pemK1rr6Gx0sO2c2yR7/dNjsnv9e7NttfMWMGHvbbgnL36LVRoi3dWb2RH3468TRDyyj0fg9uuJBSJ8g/3t/Kj59JJgVO6oJ1ZCzhu2gI8VWvRyFAX7vRXTSrFSOf0Atw+FMaBxY1nBzAtzeHBqb0kIz1H6He5aK5opqnWnpD7I0P4oynqVBDTUYRr2bk0EMCfSVjq32OHYXpzj3Xmi1A8Ne13mQ1tDuLUmqqatTTWrcOlNYHImMcsc28+J76XNx75JjB1LXB5zJ48L8PH73YfY29PgBqXLeRrPMs45nYxeuS5nMYUNny4qKTSXY/hmPr+l/HybKm3c0kaStLhsAVOxFrcAtxsJ2L9eM8v2dG746SP050aoiXh4Owm+3gXrKpGJdbQqSOErCSMpt0joz0MueyfrGntlbwjEuW2gUE8xWMCXF1ix0GC8fzGd5457CWesnjb5uVZ66XxyFNw2V9AccWEfd/xlq9RbVqsqHmInd0zJ/w83fUEDq25sGwbnW43Rt/kG1A0NcCalEGNobMC7IqN0O22rY4Dbs1yfBwbnV6AO0cOsMIwGLAashZwU2UDLq0ZsuKw9gp+GkmXFo1OXiGp9egjRByKFZ7zJr1WU2XPvEdPJYkiOkI4bfVWpYoIOKxJIpSJ/26s20iVeSlKWZRX7pwgwOG4jzLLot6wCBt+QgmDlMs+7sqqNTQYFgl3/rphvTq0h1WpFBddcBUAW5qW2zfB6MQbiaUt9nn3cY0qx4UjK8DtQ3tpSaUoO/8DUFzFqtAoUSNKMHnquRV5JR6A9kdh5Ah9T/4A09J0eNPiNUsMOGHYN/wS1+RGHKa/h1Up+++3t7gYvIemnXy0D4V5h+NlPnXkY5yjjk0bB457O+l3uVhdu46WGntyGIyP4osmqSOIUVKPu2YlDqVJ+dJ1qukObAROrgHMqfCthw9x3X8+RzA+94xsi1FqTRNHZQvumpU0GibRxJj3r2s4gsftoHb391h95OeUEp8cB05GqLL8DLlX4FCaHa/tZW+Pn5pi29C4bNUVWEoxNPRiTmOKWX6KVRV1ngaUM4o/Nvm+lFmt7OxqO5+ksbQRIHtvXShmFWCl1I+VUkNKqf3jttUqpR5VSrWn/6+Z32FOzfpl5RQVh3ig97/4/t6TK6HQWtPtSFBnVFBaZF/ExS4nG6rORyvNXk9x9uIY7eugz+2iwlHKhs2vI5SO/WpPXfZ4tcX2ggyWCvJ3/7uffPHQ/gGqS91csrYWb8xLCQ7KiirgkskN3T3Vq/iD8rNpLw+z5+hrMx73tUArWxJJLlr5OmIOB/HAxFIMrTUxAiw3DFYayWw7SSs5gtcNFUUVHCdBidNH9/D0pS9dgU7Wpgz6HY1UldhJa42VHioNB8NOJ4e3fJTbRg9yoMidnfCM56m2ewA4e817Jr1WV7sKh9YETmURgpEjhBy2u6skVUZCKWLJiZ6VttE23A43Z1WdxUsHi2hMFLGl+n4i4/pQRxJByi1NvWkSJkowmiTqtCdi9SX1NFuKSFEsL2sCa605mPKyLu5k0xrb8+J0Oii3nMTMibkRXYEuQqkQF/cfZgNu9nnTFnDgKOuTKWg4F9ZdwYp07DgTsz9tOPwIO4qcPFm3guY9/4mHBB3DYTv8ZJngdE/cf5wAx0x7AnSiBRyKpyiLD3CRUYzH6eGhynpWGMfoGJ7ao3ZkMMQFbttL8rqijmnjwGagm2GXk6aKZmpK7VtjOBXEF01Rq0IYJbUkyu0bvg5lBDh93QUWto2oZWke3D9AwrB48uDckpCShoV2hKgzLahsgspmGkyTSLofdCgZYsfwnWyo1ajOpwFYrkYnWcDRIXvC7a2zc29Cg508dmCImlLbKr+k+TJ7eyK3lpQpgpQ6q1lWZv/G7SOTz+WByAClrlIqiyoB+9qE09MC/inw9hO23Qw8rrVeDzyefr7guJ0OWpp3orFoG96XU0P1cMIgNG6m1+9rJ+xQVDuaJ+z31jXb0drBqx5P9uKIDHbQ53LSULyMFbXl7Fe2C5Wy2uz7qj12glRFSZTf7evngT25rRQ0E0nD4vGDQ1y9cRkup4Ph8AANqSRsfR+UVE/5nms2fwBTKfyjj0zbrCSQCNBhjXJhzOK8lvPt72j2wLh62uGYD9Nh0mSYrDAMvFH7BuHVtti9Y807ADjscTEyNPV3tbRFV2yINakU/tJ1qHRcp768CIdRxrMV1fxJ6z8RWPYc362pRk8RB941uo/VCYvzN14+6bXqikqqLE0wNXZDTJnWjC7xSQy3E04nfDiTtifEH+iasMuBkQOsr1lPKK55Xed3+ePIEPs9RfhHxlZ0iqVClFkWtaaJqTShcB+jLkWN04Pb6aaJIvyuFKE8tKPsCfcQcJg0GvXZySNAufKQUHGi4zpuZcqLzk8k2BoJsX9kPzEjRndilPUpA2rWwNlX0hS0b8L94fznMJwKr7X+ik8tb+BrDfVUpIb5sPMR4imL/mD8pGPAhwdDNKsR3KXNXL7icp4udXOW6mXnNI1s2ofCbCnu57jLxeWlPVOWIlmWJmXYN/zmsmaqiu1zKWqG8UeT1Kkg/1YOH2z9LyzAHS6sBbynx89QWhAfbs0hhNOz065UMA38sSSmK0aNBRRXQuUKGk2TSDrR7PbW2+lRd7Gu/CFI/w2WKR/eEyzg/i67+sBaZV/bK9Qww+EELpctwBc0XoBTK/xOP1Yiitaah/b3T1lDrbXGVCHKXTWsKLdzQzp9k8/l/kg/TWVN2XtRXUkdCnX6CbDW+hngxDPy3cDt6ce3AzfkeVw5YXQ+De6HKLUs4laKw1OUXpzIp+/Yzf/7n7E4y8Fuu/C7oXzThP3evKEFK97MK6VVWQFODnfR73TRVLkKpRT9lbY71JmezYLt5ipRLuJWkLc1x/i7+/YzNEtD8Nl4oWOEUNzg7VvsReyHRg/TYBiwebI1mOHcs95JhWlheY5waGDq+M6L/S+iFayJV7G+xk6I6ndrrJExF/De/i4AmgyDZsPAZ/gwTYMBh/2drjvrOhSKvcVFRL1TZyH3R/pJaJNlRhEllWOTlfqKYvoTG/BjUZTcjBHewGvFHkJ9E/+OiWSENhVlWayGsxvLJx2/qsRNuQlBc8xyuXtXD2/9t6cnLIA+IyPtBNO13JVu+3f2+ccaj2itOTB6gI21G+m+/2t83Hk/DR7b6vSHx753zIxSri1KnPb3HBo+wpDLRaPbvhE3OcoIuDT+2KnlLQDs6bHDLk2ecydsry6qJOSEA0fGJjL7hvdR4fSwJmWwNRoikorw+LHHsdCsc1bzF7/ZT6D5jaxIJ+2dThbwcd8RboodwlCKwYSP+zmPvyx6gEoiHB0KzxoDns4FfXAgRJMawV2zkqtWX4VXmURKhtnZOXUoo30ozICnh2tbmqhwHeFAf3DS5LbHF0O5bI9IU1kTpa5SXBpixPBF7Jrwg06LQ6FuXizx2O0ozVS654CyBXi8Czw6ajepmCceaRvE5VC867wmnjrknTGRko6n4Pbr4blb4PiLBKIpEs4k1aoIlIKyBuoMi7CKETNi3HHwDgB8jl32dwPWuAOTLOBAnz2Brdn0FgAurbWvjSQRnECtp5Zlrjo6i1x4j+zk1qeO8on/eZV/fWhyd6xgMgjKpKqohtVV9vV5bIrlUvvCfSwvX5597nK4qPXUnn4u6GlYprXuB0j/3zjdjkqpG5VSO5VSO73ePH65x77C03f+MV6n4k3Dtvtg9wyLKGTY3xvg5c7RbHbwvh67+9Pq5jdM2G9zcxXO5Gra3GClBVgHuul1uVhbsxqAcMubSWkn1E2sS61JN+P4p029xJImf3v3vklxpeyFq/Ws5QcP7R+grMjJ5Wfb33M4MkCDcsPq10/7HqenggstNyMlo+zsnnpGv6NvB2WWptaxhsbSRopVMZ1uNyNHxxo1tA7ZZQHVZWtZYRhYWHgDnXQXKRxasbluM2vLmthXXIzhn/qm3ZW2JIvM+mwmJEBDeTHxwev542XfZ+DIe9lU+UZCTsWR0YkX1p6Dd5NwKEoc5+OeYm3PCo+LUtMxYdWZzuEIScPi4DSTj0mMHGXYXYm2XDRU2DHl8asK9Uf6CSQCbHSWc8Gh7/CE640se/0nAQiPK8GKmTHKLE15pX1O9I8eZcjppCG9VnSzuwqtpr4pzJUXO56kxLJY2fzGCdsbyxvwOZwcax8Lgez17mWrZxkOYGvCvgHe02679VW8jt/t7efrOyJU1qyjDAd9kVMfXz4IJUP85aOfwETzd2f9EQC3uF5PuQ7zYefDdie8WWLA07mgDw2EaFajeOpXcUXLFbiUg6fLiuidou2hP5okGArR64iglaJHDZBKJug+IQH0SK+XuNs+DzMWVrl2Eidhx4BVkL704gz/U1lFWXIIhtvBTELLdjATMK6RxP47/p7YD96GtmauZjhZHm4d4LJ1dbxv+0qiSZPn2qfJozj4e/jF+6BmNTjc0P4Io5EkYadJjTM9KXY4qNAeEg6TXx38FYFkADO6iv3OAOGz7bW61xYHJsWAk8OdRHUxy1vWQVkjl9ZGKXE7COooNY5iHMrBmupzOOJ2s+OZR/jmw4cocTu5f0/fpAlDX7oEqs5Tx1m1dvy9b4p2lAORAZrLbK/nD5/p4OM/30lD6cI345j3JCyt9Q+01tu11tsbGhpmf0OuVK/iNys3Ultcz47RD9NoGOztfjL7cixp8ptXjk+YoUYSBgPBOEnTysZvDvmPsiJlsGrNtgmHdzoU66rWk1Ca3kgfxPzEI8dIORSrquzMxvqNb2BL4keUNq2fOLTSenwlFTT0P8X/97ZzePzgEHftGnMt/deTR9j2j48wEk7Ydbz/eZF9EU6BaWkebRvgLec24nE7IRlhyIxTX712stvtBC6pWM1wkcWzHZOPnTSTPN/7HK+PxUhW2m7hprJVdLjdhLrHZtwdPltUlzdupsywVw3pGT5Ah9tNja7E7XSztW4L+4qL0KFeBoNxfvfU3/PMy/+ePUZnwLaoY4nmbAY0YCdjWR7uf9WOHX/q9XYi0cHkxAvmpY4HcWhNzbKpHS1upwOP5SI8LnM541bb3XuMzz39Of7y8b/M1oNOyXA7Q85yHJRQVWlPsEZDYyKUWTd0Tc8hEtrFoe1fHSs5S4xNLOM6Sbll0dhkn0/OWDtep5PGUtsd1uyx56q94eldjUO9B/nqf17Crv0zTyj3jraxNZGkZeNlE7Y3VK7A73Tg77WbGkRTUdr97ZznKAPlZI2jjArl4pWBVyi2NMf8y1hRXcIdrxxnsO5SmlNJek+yF3a++faub9MVG+Tbvhhvv9Ce8PR7TMzmC3mTu42j3ohdpZBDEtaJLuiuvkGqVARV1UJFUQWvq93CY6WllATaGQxO9Fq1D4VZp/qziYetbicb1PFJceChY230u5woYFmZ/Tcvx0XMaeAPBlCOJCNWgqriKp4rKcbSfWPx3w1vs/8fFwd2eNsoIc7IYP5jw0eGwnR4I1yzeRmvW1dHhcc1tRt6313w6w/B8q3wZ7+zJ/7tjzIQ8mM4oKZoLAyWKcm8be9trC47l5Xe80kqxVMrNoKnipUu/yQL2B06xssly3jjb97I7prlrHaO8upfX8Coglq3Le7nNV9Ar9vFyoH7uKJFceuHLiQUNyaN91jADqHUl9azuqYObbkmuZVjRgxfwkdTWRO+SJJnHruf2oO/pKa4bsGbcZysAA8qpZoA0v8veAuRYxuuZEdymPed8z6GHMs5xyhiT3DMZfjdJ9v53N17ealzrByoczjCH7se5k9dD/BaujynMzVCc8LF2curJn3GJSvsGrH2oiIYaiNk2l8zM3N62+bl/PuHLuOClRPjsCsrVrLH7WT42A7+78UNXLK2ln98oI0+f4wfP9fJNx8+RChu2BnKrffaSUc/eQcM7ONEdnYP4Xe8wtWb7MlL5MD9xByKxqaLZv2NMskLHUNPZi3wHzxzlDtfPcpfPvGXDEaHeFc4gqPuLAA21J3NEXcxjsGxcfQHuimyNE3LN+PCvqH0+Y/S4XZT57DHdF7TxficTkpd/fzq0dv4Qtc9fLP1x9ljdA23UWmadMZbqK8oym73uJ2UF7sYDCY4d3kFb163mRLLTZvbsLNe07zgO8TahGLj6nOm/a4eXURo3IIMg6EYrsrX+EHnJ3ns2GM81fMUX97x5akzXE0DRjvwqmLcqoS6Wvv3GBpX1nRg5ABO5eTsQ0/wlLWNt2/fkM2+jqXGPAwJkhRZDtasuhCAuqIeRpwOGitssV5Vbp87g5Fpbqha8/sHPsZvKmN8Ztff0hGYnBEO9k2k2/RxVlxx9tq1E16rrmwh4HCQGjmK1prWkVYsbXFeyoTKFThatrPZsH+HdakUvaqZX3/8MlbWlnBHdwUrkkn6grMvrpFvwgljwt/nqP8o97Tfw59Ekly65ioqSutwWw1U1wzhbLmYLXTQMRSYIQY8sQxpfCMOrTWhwS77SXpCffW6d9LndlHrOcxrbQfhd5/N1uW2D4ZZr3rpctvJXvuLi7nA2TkpDhzrP0y/y0V9cTVFTvtcr1AeYg6L0aG+7ApJH9nyERTwWsUoxsA+26o86632QcbFgevidnijv3tua+LmwiNt9vl99aZlFLkcvPXcRh47MDixg96un8LdH7VF9//cB6W1sP5qGGpj1Gt7WOpKxxygZS7b0xNKhagzr+EGs49lhsHDxjBUNNOkfJMs4MpYHz+p9RBOhdlTUgaB45TE+hl1OqkttpPYNtbbRo7yDPNj4wtcURdiZW0Jv9k58TrqS+cwLC+rp6zYDUYVo/GJAtwf6U/vs5xfPr2Hb6tv8xXXT3FbFYvGAr4f+HD68YeB+/IznNy56/BdOJWTPzrnvVy2rg4j2kKvMhkePshwOMFPnu8C4GD/mAuyYzjCYPPjtK16iraObmJGjD5HiqpUJXXlk2sE37b+fNBwuMgNA/uIKlsUmtM3UadD8fYtY4H8DJ/c9kniaL5RXYaj82m+9d7zMbXmg7e9xD/+to2rNy3D7VQcPNpld37a9kFwFsFPr4WeiXW4P93/S0pW/ApXmR0X9R6wV2uqb94+62+0Ye1VVJkmOPfQ64/x4L5+/vmh3fzjK5/hxf4Xuan+nbw1GqO0yY4hrq9Zx7Bb4QmNueBCsS6WmwbO+vW4itegtOao7yjH3S4ailcCsLXBTuAqqh3ikdHvYSlFl8Pi+LBtNXaOHmJNyqDdWjHBAgayJUnvSP+OzaqZ3Z7ibCJWJDxIm0pSFW1k64rJk6QMxbqEoENnb+DHY89RsuLXuMxG7rr+Lj617VP8tuO3/HCf3WQinjK5+e69tA+GIHAMrBTD2oHHWUZzg51VPX6B7gOjB1hbsoy65DC7q65ibX0ZVWlRjY/LOI4pkyLtpq75PFxakyoeQStFQ7pJwfKqFXgsi5HI2GRxAq/ezhNqgCbDwLRS/NmDf5YtfxpP63ArloIGs5Fi10TxqSmtx1KKcrMHbziRTcDaGg5A9UpouZitITtOuSGZpOXs82ipKeVrN2xlR7CBZsPM3qQWimA8xeXfeIJP/eo1zJFO+P6buOW+D1KqFR8fHoKN7yKaNIiFm6CoB1q2U0IcNXRwhhjw9ElYg8EEFRlPS6XtqnzLumtxak1Z5R6uePRaeOWHdrwTuwf0ua5eutwunMpJe5Gb7WXHJlnAatRehrCpfEV2W6WrjJAT5nRI1wAAIABJREFU4qM99KTXCL6g8QIu0zU8W2kS6dtjZ6HXpCdSaQG24mGWaVs8/P1TT8ROhUdaBzm/pYqmKjs2/vbNy/FFU7ySWWhix3fhgZvoPesKPt60nIORXo6PRnlO2ZNLd+9vAWisHPuupUV2XHVF2Qr2HFrJdZ69XO2o5vmBlwlXLKNeT8yC9oUTDBWN8mqx/Tc65nbZ3z/Qw6jTQW2pPclfX20LcNvlN+FMBHD86Co+fm6K54+McHxc+WN/2L5mV1TakwIX1QRP6MkwELYnHlVFjSx7+es0qABFysQVTjISH8GcJ3f/VORShvQr4AXgHKVUj1LqI8A3gKuVUu3A1ennC8rqytV8cOMHaSxt5O/etYmOsG0R7tn7c2598ijxlEFzUYSDA2MXSGd/P60lcLjYTWT4B3R492MpRaVj5ZSfccHK5WDUcaC4FI4+wZDLFtqMAE/Huqp1fOK8G3m4vIwnW3/BqrpSvvDOjXQOR3jThga++4EL2NRUSTLdgYsL/hT+70Po4kr0fX+RjQknzSQvj9pxumPRw5CM4D3+AgANZdOG3bM4lp/H9kSKWOkAv93bz8337qZ6zc/Qxd3csOJzvCFii1/dKluA11bZNwC/CkC63jdmemkyTKg7C6NiHQ2myQsj+zCVYlm5HedcX7Mej4Z7yoc4XqT4pMtuh/jswd8A0BXpY20qxRGrmfqKiQKcaUv5jq32hXt25Va63W46u+1EuR17f4qpFMHIVjYsn5yAlaFIlZEcVzpUy1OUWRYlxz7E2sq13HjejVy77lr+87X/5OGuh7n71R727XyGwfv+Hu78c/t7A2Wucpqry6iwwJcYE9YDIwc4O2EQ1h4aLroegBJ3KcWWJq5tF7phGaSUxk0RjsoW6kyLrmL7b9lYbieEFFU00GIY+BNTxFj9x+l4/O95zePh8oCHrw0V43F5+OgjHyV0QmvM3ekFFZpKN086THWx7ZGpcXk50B9ij3cPqytXUx3ohepVsPLibBx4fTLFVW+y8x/etKGB9VsuptkwCJnxWWuBH+p6iPfe/96ZXfs58uLREQKxFL/b28/jd3yHl32HeJoIHw0EqfHUwNlXsavbhxFbQcTy4m+wb8gtsTb0LDHgqRpxPLi/n2aVvjGnLeBqTzUXq1JeLjc4yGrY+kdw/GWIBzkyFGZ1aS8xh4PXNb8OUylKijpo7Q1kJ32mpamIdNPrKqYpPTkDqC6qIOBwsFr30psW4JaKFt7hOZeQU/EPicN8q6qM/zj4PwwXl2cFePjY2MQrPtx1yr/xeAaDcXYf93PN5rFEpCvOaaDY5eD3e4/DQ38Lj3wRvfF6vrpsOTsGXuIjv72ZN3/rCT50n49+1Uix91kAlteuzh6jqnT1/9/eecdZUZ2N/3vm9t62912WBZal7NKrgqCCKPYSezSamJgY42uK7/uL5jXBJG+iJjExJiaxG0usMcYaFLEAiiB9gQW2wfZ67952fn/MbGN32aUo7Drfz4cPe+fOnTlnzsw85ynnefDGYszxnIkrWElGx05Oy1xAJB7hbasJb7SW5lC0KwZn5569PBCw4RVW8r357BVxNWK66lMaDAb82rs23ZWO1WBlq9JC/JrXINTEcuP7CAFP93DvHWivRUqFNJe6NNQqfLTHe+dC6Jxcln64nvN5k6bcMwCwNzUSl3HqQ8e2WtmhGEoU9CVSylQppUlKmSGlfFBKWSelPEVKOVr7/4trscZ5BefxX9P+C4CCZBenTDkPo5Ss3vkf/v5hKU8lPcwq5XpC5d2JJfZXvkVIUbDEJdvcG/lgu5pFKOCa0O85DIrAa8xmi8mK3PUfKo1GbFhxmByDtu/qiddSIGzc2byRlo5mLp2RxeNfm8EDl0/BYjRQnOUjsX4d0miF9BLwZvFbeRGiZguUqr6/l3a+RJhGFMxsrt0MO16jRqtXm2QbXABjtDDN5KfFFOaXb64m4nyDmGUXJzdNZs3GTDWpgfSTmawGd3UK4DKTiY4t/yIelwRFC8nRGPhyifnzSY9G2aKZXNN9ahYZo2Kk0OCg2WCgpMVFaezbZEcivFu5mtZwKweibWTGFGrwkpfQW4jmJzkZn+ZmtBbdPDVXNcO9v+cDpJT8qfRZUiNxos4z+mh6PbEoqnbc1FJBKBIjaqxhVDhCbsc2alvDCCG4Y/YdTE6czG2rbuOFVY/xovm/mVX5N1CMNM24hTZF4LG4SPVYccQEzVFVsNa011ATrKGwtow34lNYUpLXdV53XNCh1XftLEVoxgKKgkca2aWZLBO1mbzi8JMRidIYPchrIyW89B2et5lACjLbsikJ7uWnc+6kOdzMmurepSI/LFtFdiSCL2MGB+PTzHZ2Qz2bKxtYV72OqUkl0FIFnkxIn8L0YIgFbUFmBSWjcrr7c/PymTijqqAqbz60H3ht5Udsa9jGyn0rD7nfwQTDsT5+wFWltdhMBr65YBTZ+19nRUIqCdZkll75MU3f+IxPqsM8vbYcwqpg2xwPEjZ7KBE7EMhDC+CDNOC2jii/e6uUab52pFDAldr1s7MmXM0+k4nz45fQNO5ikDEoW8WO/a0oJlVzOjPvTACqlBpa2tq68kPvqWuj2rGPKqNCqqP7mH6bj0bFQJ6opNJoxKKYCVgDFPkmMSsYZLVZ4anoAf688c/8JDGhywfcsLc7iE4c4/XB971dihB0rawAsJuNFI59h33lX6P9wz/AjG/wypQLea9qNdG2fJrlThZMqeC3l5TwgaGEiFAnhQn+7hgYizuL/+ytwLI1xkPmXyKNNiaWXEuyPZnXZAv2SB0KcWq1dJTvlL7Ex1YrV6UspMBXwL6Yei1De1fTpigEtCx3ilA4OfNkXtz5Ihe/fxvvJmbibN3NvNGJPLO2O9anLliHjDrxO9R72GUMEKGhl2ujqq0KBYV5n91DjTEFzyV/okVxk9isWkS+yKVIwzoTVk9uWlREUtjBjlgNjyg/YWrTv1GIk1L/Udfg1Ler5t0bbROpNcFfdz+NLR4nOXXmgMfN946m2hinI9ZBpdGIz5QwpPaYFBM/yb+YWgUWPX0K17xyOWsq7yUS19ISZnkpkZtpTywGo4U9dW38Qe7n595kIqvvJRaP8acNDxILplPgnK2Wztq1khqLKvwT7ENrx/SAOrkw+f+DKfAGy1rb+V3D81xftwJDzRYqlDQcFvXlleXKQiD4xOil/MPnKW9spd0YJgErmKwYEkd3LVMRUjIqUNB1nvm+8WTFoCD9Z7ywtY050saaYBXbGtRAIEvYy6RMH4Vp7l7tu/2s8Tz99VldZvzTxs7GJCWbWnfy9vbn2CKDTGzKYVzGoSccNq0iUkPzXmpaOmgyh8iNRChWSlUzM6oGdM+Ce7AbvJR7/06Z0c7cyH0Er3yNbWO/CUoIn81DwGnBGjPRLFUh0RmANTHYwpaEU7tMdgBOaSCoqPt1CmCToubl9ih24lq/uiZMNj8Z0SgNso53y9/t7sDe94nufJNnXX6irWNJz5iCmzbylQAWg6WXAI7Go2xs3srkUAepY6b3uRYeqzoZiRk72LTvXVoiLcz0jAYZZ3fUzxVP7KAylsZvDtSQ5slTl5BoBJwWkpyqufzJTw6de7e6Qs1M9PLGvx1yv4P5xb+3suTed3vlKV9VWsv0XD+3TI5TZ6+j1BRj3675zFrxHpN++jbn/H41L35aybQ09X7eXL+ZSHIxUxRtydogPmCLQY2mBfjLqt3UtYU5OTWMcKaAoVt4L5p4FVaDHZN3Le+H88FkJ7TtDeqbW2hEjRuZkjyFVLOHTWYjY8Q+3iutZVv9Nr6z8hruT4mQLexcWHBh1zETnQmEFUGGUkmFyUiaFh1tC2TyQHUNH+0p56M5v+LbJd/mbVOcD5pVc3NH1VbiUlBuyMTWfuyi0tftaeCRD/Zw1ewcRiV2T4ibO5rYG/sn69whTk8p5Mcs5r/fW0EsmMki348Y4xvH7vhTnFLo5Yxzr6TOYMAgJV5/9yoQxZuBAfh27U9INTQhLv8Hij+PxdmLWd2xnwgxEmiiVpuAvdrwEumRKJePv4gsdxZVHY2EgYYqNRDUb+tOcnTXvLtYMW8FzeFmbnDEebppM+dPyaCyKcT6faqW29hRh4w58djVia/HHECKSC9rTlVbFV5hYzSVNCy4C8wODjjHka+lw/wi/cAjRgDbzAaKkkrYYjExxrAXLvgbbbZUJsrt7K1XF283iD0kR+NccsbvmNbeQZOIMCocJSV73IDHnZkxHilgp8lIldFAoiNjwH0PZvykK7i/uobl9TWEyj/iLzuf465X1cxVJUkGxosydjrUtcR/XvsaxoSVPOqzcH1wK39fczcVbfsI151MSfIEaoI1HKj4iBpPChaDBZfJdahTd5GfORdfLIbJ9xHJwsiPmkJEZt/EmYb3GR3fRYM1q2tfq9FKmjONbc4k0hs+4vVNnyIFJFhUYe9MziNZC/tPjkKSs7sN1yx7kJevXM9Fc6YQjUuyyaUDyVOaGbqtPYmrZmdzMBajoVcSCZ/NQU7YyHbq+f3H95AVibCmdjlFh/D/AljNahsbWyvZXV9Lk1GSF4lQLErZ1iPPrd/qJ7PmbKQS5absbKriVtbva6SisR2hhEi0ezAoAou00KJZGzp9sCkdJrKmLet1XhdmgooaPNRZC9iiqJMkn1aeTZHqeQGw+7msuQWfdHHDmzew4sMVqoa26m5WeZNpFiEyTSfhy1bvi8bdm5mcNLlbAMdjbKjZQJvsYFp7jOxRvdevQ7cG3Kgo1DSr2ul0k/oiu3NVC1uqmgmnqn48Z1rfe78oS/XpP7dhQ59o4J5UhVQT7rt1G2jcO/RUsCurXqLV8xfe2qJaASobg+yqaWPe6ATE5hd4z27FKIysOO1Sbj+zkNuWjuPPV0zl7VtO5pGrTibDmcHmus1YcqYzStF81YP4gDvNzw1tYR54ZxenFiYTiB7oMj93YjPaWJq7BKN7I++U7Yfs2bRueZ1cpZq9JgWbYiLJnkRRoIiNFgsnOStYWVrJN974BvuD5dxRU8cT2ReS6e52a/kdqvUj0VBNudFEmmaetif2eB6SJ3B54eWkK1Z+rjQSjUcxNOyknEQ6PLkEogcIho/eNxmOxvnhPzaQ7A0R8T3dSzC9/v4vCSO5wT+NJmsHz+6/mYhs46qCW/jNxVO5beYPOdB+gHs/vpcno5W86nTgi8UxuLpdciaftjIAC58seLhrqWRJcglhGWOHydyVDasuWEeVqOXClhbMgXyyXFnEkVSYjNRrKxq6nhvAoBhYlreMl85+iUkmH39V2piSpU7oO8vStkQaIOrEpSkVCdrEd39b98qKqrYqEsNRKmUC+TOXAxBJnkRxVL2XvshI6BEjgAEWTzyTkKKw4/zfw/hziKROpUTZzrbqZg60dFBtbWVc3IbZ5efkdjXSNTlsYlRK/9mkABbmqS+j7WYz5UYTmZ6+QmRAHAnMWnQXPxp/DY+X3MrVMRsvNm5mbcX7ZLRuwCAkqyNjicajvFL5R5SYH6qWscFiYcXWh/AY0qGtiIV56styc3MZNTYPibbEPoFfAyEypjAtGEIAP6vch2vG1zGdegdPjP415TKBykBvE2aOJ4dmjxWriPDWqmcBSNMCiJI8DiwRp3bdDHjtvdP/CYOB/CQXc/IDfFqRjzUe57U9r2KQkhC5LJ2QylDIlX62meNsCzdwXsjPHpk+qAB22tRjN7RUs71KTb+ZE4ViQyk7esQBvFdaxxkH3mRFTSNlshWT9xPWlNVT3tCGMIRJdqr3ghUHTQoQj7Gl9jOyIlHeic3g9Im94wWcipU2JU57OEZrWBPA2uQo2a2+mLyYMHRqaDY/6dEY1zZN5bJxl/H41sdZ+PeT+EbzJ/wmKYV41MmSvIUkjFLvu9byjUxPmc62hm00/vuH8BM/7zxzEQYpSY9mYOhnXXSnD7jeYKRRKaXANwZ/u6oh7Iz4WXHOBMZPV5d8ERjd9/cpk7DH49gMFfz6tYGT21TFghTHDESF4NWXriVaP3g5yHhccoD/YHJv5PF16vKbVaWqxjEnPwE2P88H7gAlySVcUDKKq+bk8rX5eSwqTCY3wYFBEYwLjGNL3RaMWT20/0Ml4oh1dJmf/7ByJ63hKLecNgaaKsCTzsGcV3AuQonwbuWb1CXPJiG0lxuz9rLbZCLHkY4Qggmp06kwGSl2l7G27iVqgjWcFFnOua1t2FJ6J0bxaMuRHMZ6KkxGMjQB7EpUn6s2kx+ciVgMFm4JzKDUqPDs1idwte6i2pSJwZdFuqhlV82RFUzY1bSrS6t74J2dbN/fyrRJn/HCzmd5aJOWT6mjhZdKnycnrvD1pQ/w6NKH8ZgSODf3am5duBAhBMVJxSzJXcLjWx/nl5/ci9Vk59sh0cuCYA9k8tPIV7hS3kHJzAVd2zurDm2ymEkV9dS2dvBhharljomYwOom06U+W/usLuq0+9pn7Zvl2GQwcXnyLMqNBrbtfxW/w9yVl7st1ogRT9f7MVWLldnT1L2ioaq1iuyOZrbYp6Jo53HkTiNFy6Som6CPkMnJqqBaFVYvtn3UbNJEPfvKdrBm7w7qjTDOpt70Svpl3L2/hikNqaR5+iZp7yTPm40iTXxktRJSBKN8Q9eAAZh6NZzyPzDtWq6f97+kRaLc+e4PiO5ZRRQDL9al89DGvxNWKliQ+FXynGfwtYZCJoXCZLYvZGyqhwmJhSgINpmN1JpMXf7EIZE4lpuag/yh+gBTscHsGwGYc9pFzA//hvb83hpdrjuX8nA9NUY7YxU10Cc7WV3+k+S2EIuoM1Jv2IrPYaY/fnn+JLYpRcwIdRCVcTKiUXLGTD2kD7cno+2qSSsnHOHjypM4tyS9z1Kvg3FpwRoHWvdTUaO6GjLTZuEiSHtld33bJ9/6iPON7zB3zHlYDBYSvC2sKatnT6Pq1/bZ1Bm1zeCh0aAgW2vYcmA9hR0dlKWe3ida3mVw0GIQNLWHqWtVj2HV1kVmJKiTvBRzD7+32UEEE45wC9+f/n3+tPhBTsNBpcnMjkgDkYbpLBibSkZ6FnXSDQe2MC1lGgBrd7yITC7iFauXrKCVSPEN/V4Lm9GGxWBhn93HflsLBe6SLr9iNQlMz/ND9lwQBkgr7vN7kVRIWjRKirueldtr+l261RpupUVITnLlku/M5EVjnLW/vYwX1lccspLSpv0VCItq6vuwag01LR28V1pLgtPMGFFObd12tosIs7TKUf1RGChU03AmdrtADpmIIxrEarBS3RTiodVlnFOcTkGSE5oruiKgezIhYQI+YyZ1YhU/26ZO7Ja0v0SZyUSOXz1nUaJqCq9XSpHet5jkn0lCrWYt0JaxdeLpvDdNgmZFdAVxGh0+WrFRYek24Z6SOptpwRC/W/8HLNEKmh252JNycYkgeysPPzI9FA1xxb+u4Ka3b2JrVTO/eauU04sCfNzwGgLBY1seozHUSOWbP2adSXBm/nKEwciExPGs+sob/OSkm3od77YZt3H7rNt55dxXePbMpznnzAd7fe+2m/hTbBm546aoeQs0Uh2p+MweNlnMJGsa8G/fewshYZxDHYMsbaK/1+Wn3qD+tqcG3JNTck4jORrl8a1PUJjqZnNVM1JKOmQzVqV7sp7hVn3cZbWqWT8u41S3VZEZDVGX0p18KXnsLEyAQ5p7rX74vBlRAjjFkcLi7MU8vPlhqtuqMedo2t2+Nazf/RoAJanqrDlh/AJaW4opc5yKogysTRoUA35zFivtqlkx19d/xPRQsI0+jR8qiezsqOfhPa9S4x7P5vpm7t9wH9G2XK6fejbzCxJ5tPYMHqk+wEkVW5mU4cVuspNn9rLJYuZAPNyVOHxIGExkJo5nTjAE827uyh2dk+DgxW/N5cpZOb12X5S9iKiMcU1mOjG7Gl2YlqxqYy6LkUgkA6OU+ENuHOb+BWqa18atX1lCcbv6Is4NR5g7a+CsXQczNW0WaZEoX6sPMebkr/CrCyYNqvF7OisitddR07Idc1ySXaJGN7vqPkVKycbyJibsexQjcYzzbiLVkYrb2crHexrY26CaU53awn+HJUBMCMprPqMy3Ehmh4GC6af1Oa/b5KHZoNDYWNdVDtGmmYATElRNKNnWY8IkBG0GN9ZoE03BCH95Zi//veMTfhg7mRJ5H/b2JUxI92A2Kuw1ZuNs3kFRoAibwcJH8Tb+IOZRZQyRlfkVZi25rN9rIYTAa/GyymokJsDLWGjcR73ipyA9AbfVBAn58L1toGUo6kXiGNKiMWKGBqqbQ+yp65tTu7pO9e2nubM5JedsNlpN+JUdfPfJj7nswQ+pbOxbTxngn6XvdLYSYd3NC+sreK+0ljn5CShbXuADmzoZHkwAA2xur+QtVwa/8Ht5pmlr7+hVxagGUKEm4rAardz75g7iUvLdRQXQXqdG23r6Ps9CCBZnnYnBvpfnDgRpMycQbdlLpdFIjlcVruMD41EQ/NbWjjAEyTNcgL2lDIkA/0HrsjWBu9msTljTeyxResN7Ab9vnd9VOU14M/l+fQNNkRYe81iJ+kbhTVWD5OrK1ZSNUkp+9NxGbnziE+55YzuvbKyiPdx/bvFXy16lqaOJT2s+5bpnHsNtNTGvuILmcDM/mP4D2iPtPLTmV/xzu2rtOqP4+l7X4WA8Fg/nFZynaqv+PMjqHT+T5LJyXkkG183P67VdCEFhQhGfWSxkmZp4cs0+ylq3khcFf6J6TX0WH06Tk71WB/WaZhroUeimJ8aEMVzc3MqHTdtJTWxg2/4WGoJNSKI4DF41qHHnWyz75DYAWjc/Bqj+3aiMkRyJYR7draGbfRnUCx/eGBwI6iboI+bmKTcTi8e45+N7IGUiYWHBW/cJu+vXYIvHKSlYDEBxtp+bIt+iLn3RoMcc4x9DiyZrOpNwHBFCcPJJt7OgrZ17TEHOCDTjLLiTUKwVf8cFjE1xM290IvviCVS6i1koP2CypvmNjwk2WW3UdjR0lc4aMnkL1GT706/rtbko3dMVgNXJlOQp/OnUP1FnEDzrduKJxbAnFmrNF4RNeby6r5KMjsxDCsXZ+YlMsKraQlZUkpxZMOC+B1M0bgb/Lq9kXOqZ3HjqhCGZ252eJFyxOI2hJmqjlWRFo5gLFtNhdDMuuo39zR089NZ6LjO8SazwbPDnke5MR5gaaAvH+LRC9RG5zKr52K1lrlq5W42Ub+gYw6lFfcfeq83Qa+rLaGpRZ84OLXAkwZMDQFLKpF6/CRrdWCJNXPmXj1hU+yhxDHx3z2xWbm1h3uhkDNqEsN4xiqRQGSbFSLE5gTU2Cw82qcErN887dPp1n9XHAcIYpcRcbyfWsJc90QCz8nq80JyJvQKwurB5SRMWGlBN6j2T2XRStV81H6YGxiLaSkDCmy4j95xi45O9jdz5z819fgOwpvp9lKiV6Y5MnJ49/P4/O6ltDTM/1wGfPcv7iVl4LV7G+QeOyyj0q/fjTW/fxHcSFB53u7ij+i1O/vsCZj18BsueO4v5kW0sNzexumI1oVgIIc08tXYfl87IJtNvhzKttmw/JmiAa4vPR0oFf+p6rAUL2Ws0qXnT3TkA6qTYkU6DwUBOKJM3PjWQRRVt9nQw9raSeLQSpZstfQVw4SU/46XwFO5+XTP1ezIYE45wuvDxmNtFe2Iq5oDq9mqrUdeOf7y3gcc/3Mvq0lrufXMHNzz2MbNWvMXPX91KdVNvn/1T254ix52DTSRSa3qRX184kVf2/IMcdw6XjL2E03NO47GdL/Csy0lJwsRebTsSDIrgVxdO6tdlVJRQxE6TkRRTPRWN7Vgc5UwKtYGWCEgIQZY7i71GA/UGA1bF1G8JSQBcqZwfimFFoUZ5k3A0zvoq1crjMvng9f8Hj5yDv6UMb1Swr203NOzpWoIUjCZRkNMd/4IQVDvGccv+ELdOu/WorsHhMOIEcIYrgyvHX8k/d/2T9XWbOOAaT354C+WRMiZ0hDGnqktnkt1WrpiVzTklg5uUp6d3B7oMtgZ4UPIWcIcllxsaGrkkZT6R+nkEyy/jjDFTVT9LlhenxcgjzZMoUCqY5lRf6oXNtdQr0BppPTwNGGDBj+Bba8E0sKm9J1OSp/Dowt+THomSG4mq+V81Wpw5JMdihC39z0x7Mm3iqaw4UMtFxmRQhn6rWVPHwbK7GX3+HUP+jcdhxR2XNEZaqKGZ1IgJDCbakyZTrJTy+uZq0rY/jEOEMM3/HqCOZauW3SyKquU5NXOxX0sz+eHet9QTJC7HZT2o5B3g1QJs6hr30KyZrtxacY6AJogTNWHeScjkxR5rJqfqFS5U3sY063qe/8H53H5mITcv7p6oRPwFOAgSa9zH1LZWSs1mTCk7yXRlkuvurWX1aZfmB54U6kCp2ES4roxyGWDmqMHHDSDdnkQLMQKuGB/s6rvKsErTgFOTJ/LWpjDuSBavOhyclVjDhVMzeWPLgV5Vx0DV3Pa2reWUUCMz9m0gbKgkJbSeucpGlq8+H1m3gw/MCjNSZ3RFLPfbN6uXOWlzGOsfy3ddc1m9p5zZe2YRqjmZxhYL5lgqiw0+4kiuf+N61lavZX9TDItR4Zsn58HKX8IzV0NCAeTM6/ccqc5ESgIno7g+oi13NmUmdaKa3SMGZFLqdAxScnMYKptC5IoqpC+vz7E6x6I/AVyQ7OLSGVk89uEeNWeBOw0QfLN6H1LAG3wCmnUn3qAKmGfWlWMzGVh56wK2/OR0nrxuJrNHBfjjyp2cfu87XXV9N9VtYmPtRpbUB5lXbcRgK2dz8B9sqNnAhWMuRAjB16WbDuJUGBWWjf58a+qMD4wnLgRhSx0uZxMx0c6EjhBkdVvHslxZ7JNh6hUDfrNn4Mm3ouD15nGGcLOx8S2EqY5PK9Xr47MEYMdrkDOP+mvX0NY8iXdtFtrf/x1V9WpGsfLIGEYn914SGUqayMKOCqzhob0njwUjTgC2fj1QAAAbxUlEQVQDXDvhWhJtifz8o5/TllJMrlJGtbGNURFbr9npT5YXcVLB4P7U8Zop0azYuupHHjFC4Dt1Bd/wT+G/FtxFjriQaOt4TtMWxJsMCrNGBXguqPqzs/a/AS3VjG/qNosk2g4zp7YQfeulDkJu2jSeiyVyX4e912/b/IW8FZvMTkfJ4KfNmsGytnaykvpG6g7a3qlfVdPeDRGPzYQjJqiNtVFjiOKX6gzckjODArGPB//9IVcb/k1H3iJIUSdhac40msKNpPsV0Ko7dWrAyQnqi3QdbSRFJNOnn9HveRNcncFflbQE1WUqLldK1/EXZC5gbnrvQh8xi5d8UcGvLH+GrFmw6HaS3VaumpNLbkL3GnNzqhq4Ur91FdOqVfNjG7uZnzF/UKtAZyT09FAYT/0GzG2VVJLItJyhXdM0TXufkBXhg111ffy61c17MEpJ0FzAuj0NTEw6hV1mExXlq1k+OY1wNM6/N/XO6b197zuERCtTOwRTS1RT5/fcv+JR8wqMRhO7zv8TByItzEod2Pzcyf2L7+ehJQ/xlZKrsUvJkuyx/PPyOylUbqFu98XcZsnlmVYj10+8npiMU9No5obpPhJfvBzevhOKzoOvvT1gOU+AH835BsFYO0/TTJlNvS86NWCAbxZ/i794pjG/6RMshMkV1VhT+lp6zAYzNgn1BgM2YewSyJ18d1EBLquJ/315M9JgBmcy2e31nNcU4r3alewINxBRLFjaKmgPR3n50yqWFKXgtBixmgzMzAvwh8um8MfLp9LYHmHDPjWBzFPbnsJmsHBZxVp+3v4hmQYn962/D4vBwlmjzoLaHeSt+h1nGHxYDVZOzT510Ot+NIxPUO/nFkcb316qvocnhGO9zNiZrkwqY+0ccCfiH8zSFxjFVc2tmA0WHLn38U7l6+pmqxfqd0NaMT63i6bm6YQUhf9se4aq3Wq9gAbnnD6FXew5U1GEpHzzB8eqy4MyIgWw3WTn5qk381ndZ1wvP+DuBDdxAdmmI/PfjvapkaJZ7vQhRx8fksxpcMXzYHYwd3QCWX57ryCj+QWJ7MfPdvM4lC0vQPlaxoQjGDSt4LCCsI4C21m/xX3Wfb22eT1evhq5lVZP3+jZPqQVg80HGdM+pxZ247aZsMUM7BBqtRqvUdUy7HkzMQjJj2J/xCdasJz8X12/6dRExmfGEJ0CWItgzknMAaDFoOAM+1gwrrcW20mSFhPQEjxAW7gJezyOw6OOj0kx8ZuFv+l68XSSk5lJQLRgsPvggocGnBz5c7UUn2v/yPiOIEpc3W9++vxBr0dnXepCkcjs2BoMMor0ZOE8yOUwEGkB1QQ8xltFdXs5l758Va+1yFVt+0mOC17epEZXX1mi1oVedeATJmd6yfLbeWF9j0QewQbee/U7ANRn3UHR3FsxK2ZeSypm67gb4evv8b6i+kEP5f89GGv2NDj7fs6+6FpGJ7v46pxc9tS1U90awRKP8Y1J3yQ/9DMmN07mhm1Xw+6VcMav4dw/gWXgzGoAY/1jmZ02m0d3Ps/2iWeTZEvqlYQn0Z5ISdGlGKLtnGN8H5cIYkrq39XiEep1Tzd7+7xDfA4z3100mvdK63h98/6upVEnNXpwmBysWHMXlfYUUmQNf1tdRktHhHPtLxFe+XO1UEK1mrBjeq46ufq0vJHmcDOv7HqFRcYU7DHBvuTFfKO6DIDTc07HEw7C8zeA0cp/L3uYp898uqt28edFkj2JJMXCVoLUR3dilTAqcUKvcchyZxGVMTYbDfgHy3UQyCenbg9/X/IIZryUhlR3UZ5RqlWlAvmYjQo+4xhs0smrFoWqna/jjMWxZfatK55WqGriwbK1fb77vBiRAhhgWd4yHlj8AHm+UfzD5VQTR/gHL2DQH36rnwRbwlH7R/rj+6eP5ZXvzOsVCDZ/tHrjVaQsVgs0fPYMVmEk36P6Sg5bAz5SUidBTu8bNdmtLufw2YegUZts8J0NMP1rn0freuGxmTDHTHRol9Hv0Ao3pKtjfqphHaG0Gb1m253uhMykEMKgCuBOE/SohO7Zt8tR0iuisydpAdUU3BaupT3SijMex+4+tJZp9GWpyfcvfBhc/Qt2gJyMdPZLL5669QSlnYBxHDajjakpg+cBLwwUku3OJt9fTIGiCsJA+qhBftWjX1qu8YbYGuw5f2Rj/ce8svuVru+rIk2kGKw8v76S6Tl+ZmSMJUOxsyp8ACHjLJ+cxnultd21sDc+w2rZhqXDS/bokzAbzExMnEhZopuxF90JJivvV71Ptjv78Nw8QsDkS8CqWqZOG59MmsfKjpogxGPc/do2xu/5F4/JFSgGI1zzGky7pn/fdz9cXXQ1tcFaXt/zOjmaVaAXufPA7OI79lfVz/7+r7FX0czPAzy7l87MZnSSk5++soWYFpndYc7mpik3sbZ6LeclwNsJ+/nDJ38ikP8rvlH/FPd8+nt49hq4fw6s+xt2C6Slb+Vfe//O7atvJxQLcX5FKe/GJ9B6xv0sTZrJjQ1N3LD6YfjVGCj/CJb+Ersvt/++fQ4U2pLZZFTYuP9jCjs6MOb2nkxmaaVAWyItA0ZAd5EwGmSMrFick10/IdZcTCyUzGippZDVfMvnFmfS3DCZVXY72w0SZ9TMuPS+x3YnpLNfJGA5cOgENMeSESuAQZ1J/2XpI9xbHeW3+2tIzO6bNWio/Gzuz7ix+MZj2DoVs1Hpo5VkBxzcf1kJk0+9XN2w6TlIKaIwQTWdfmECuB+StFzOXnv/S5D6YHUPWjbxWGA1GTDF1bYpUuJP0CZbNh9tLlVIWk++pddvOidU2SkdLJ2kaoydGnDA5sagWV1njuknUljD59XWckYaCcba1FrA3kFm7rO/BTeug8xD349eu5kyRT3+O/EJfHPS9/jdwt91Vdk5FGfnn83L57yMd1T3Ou/cUWMP8Yve+NKmYovH+VfTx5iJ45MJbKrRqmRJSXU8jN/gofRAK8uL0xBCMNc3jg8tJjr2b2L55DTiEv65QQt6qfyYj60WWlonMDZFvcZTU6aytX4rreFWShtKWVO9hpmHyEo3FIwGhStn51DZHCXY1kLee9/jDtNDKKMXwfUr+112dShmpMxgnH8cMRnrZX7uPqEF8k8hNaxVjwr0L4A9WiWm9AEmFyaDwv8sK2RPXTsbW9XJRJsrjwvHXMgLZ7/AIlMSr3ni4H+FDGOMiaEOng+kELzuP6of+7X/4Tfv/4wW99/Yw5O8ve9tTkmYTElLFa+IeYxN92O46GGuK7iItPEXwtL/g2vegIkX9tuez4vx7jzKTEY2N2ylqKOjjw++cykSDLwEqYvOOux1pUxIS6K94iLad3+X1FhFr+8vm5FNpHkiEQHrbFbiES+Faf1r+2WFNyCKzjmyzh0BI1oAd+K1TOCkYIik0YNrDgMxK20WY/wDl8M71pxelIovo0DVQgHSp3J2/tmcO/rcz91UdCiSXOqL5OAkHCcCJqkGT2REozhTus2+jknnqA/66MW99g9Y1TSPNcFqshIULAYLJs0cLIRAkao2fO74vvmWO7GZnVjikvZYC6FYCHtcYrUNkivcZOsV2HYoam2aL9o8lbOLipmeeniTSGdut/m/sLBv4YaBEFY3uXGF9EiUF6u2c17TTnY0bKcj1kGs7QD7DQIR82JQBEuLVD/4vJzFBBWFdaUvk5/kojDVzQvrK4nLOI/UriMiBATHkKP5uackTyEu4zyw8QEu/9flOE1OLh136WH1rz8unpaFUIzYoo2cbXiPyEm3IS5+QnWHHCZCCL5a9FVALQDTL2O1+ADFpBa76AevUe1zmrv/70F1PS0al8Qre7QJqyZAcj253JV5Gv/eV0mk9CaeagnzXWMqLdF2/t2+B868l6Z4hKdK/0GBcw4t237My8ve4564nyBW9qcuUv2dFhcs/SWc8X+qVSrz83cNHUxRQhFSCCIyrvp/M3s/WwFroCvyeVAB7NcC3upKKUztjs3xh/aB2QlO1bqUFbBzcs4UiKrHq4yMYlxq/5kEZ1zwPUpOu+JIunZEfCkEsHvBt/kg95u4/CmD73yiMU6tvEPGVEqSS7hj9h3Hxg99hKR4VC3TN1QN+AvEhCow08KCgL9HtO+iH8NVL/cxOwohSHWkUtFaQUu4pWsNcCcBeyIuo5+0Q5iJAdxxCMp2OmQHVnlsH6mGxGm0SBuuoqVdy5MOi6RCIsJEq+LC7jx0MpODue+kX/FM0bfYWXgX9pCPKJLt9duprV5PVAhaQomMTnJ2JWSZVrAcs5S8W6VW7Fo+OY0NB7Zy0YuX8VtTkIKwh1znxK7gl0mJkzAKI3/97K9qbdYzHu8qCHI0eOwm0rJyacJJw/JHMS249bCi8A9mcfZibp12K8tGLet/h9GL1aQm/twBrT0eLSNTxiCT+NvOKOTTeA4d0oQ5q0egoyeLlFiMryU0YKnbwpTCi8nz5PH0tqchMIqnJy6hnTg3eMZC3MZne2qQm57jtdgUinKHloHui6AwpVvoT/CPA7O91/dCiC4z9KAC2O4HewDqShnXI8e8u32PKpx7PO9Xzsqlo1FN7+oxJ/dKf3s8OTFa8TmTP2ku+ZPmDr7jiUjxZaofOH/x4Pt+AYxKdPK/y8cPOa3kF4lJUQWMO2wnyW0dZG+VdGc6la2VKC6lKwK6k4U5s5AMnNWpE1dcoV2riZQYP7bm9nD+UqZsy+CZaUVHdgCDCWN6McZ4/4kaDkVC/qmQfyqp1S28/Ola4H02lb1FLKwGS+1uSqI4r9saYzM7mSatrGov5/uAM7ABe+5vKa0389O6OtYGz6aloFsLtRltnJ57Om2RNn4696d9rv/RMO+rPycSvgOz1T74zoNgUAxcXnj5wDvYfKop1z7wEi9PSgnUriPdd2g/fG6Cg4mzTqPo3Tyeze4R0OVVg/1usr8KDQIx/mzO9zj5xZpfsKFmA4+272ZOzMjCtXezwjQF7wfJiFAT/4jN5Yrsw9f8Py/8ieNIi0QJKYK07JP63SfLncW2hm0DJuHoRSAf6nbitprI8Nkobwhiay6DzN7xPnPzE0hRZlEv3yHPk9//sY4DXwoBPKxxpcCFDx3vVnQhhODyg7JnnShYtIpISoe/q87wYKQ509hctxmvxdtHAPxwxg+HdAy7NNGuhAmhYD7Gj9SF07PISXQwMePwtNeeiOX3daVlPBJGJzlZryzEH1vFZ3vewmNVLQJlrelccVC75rnyuKttC3d9+DMe2/oEo92TSPs0mbPEn/ldRzrnpvS+xivmrTjidh0KoSjHRPgOmXPuP+TXme5MbEYbGc7B8w5879QxlGT5mNAzmYWWsctQsUZNI+pO5axRZ3Hvx/dy839upi5Ux1dn345Y9yRnla7CUd1OmzmBVaEi7s46cQQwJhsXBKOEYx2IvP6j+TtzQvttQ1gyF8jvKt9amOpmf0MLxpZ9ELio126KIrh6+ix+8q8fcNLiL970PhC6ANYZMSSaRnFWywsYwwVDzjud5kyjoaOBA8EDJFgPM8GJhkNYaRAhggqYObaL+J0WIwvHHtoEPiiJQ89C1h+KIsjPG01rq5lNzbvJC6vZuCLRAJMyescjzM2cD1u38NjWJ1iSu4Q759zJrtZb6dhpYpdMZUzKsdNyhxNnjjqTeRnzuqLsD4XVZGDJwRYmV6pq5pYx0IKEPBYPp+Wcxos7X2R8YDzTxpwLY8/jF89/ymcfv09+YirZZjf+AXK2Hy+uNSRA407I6D+eoTBQiMVgIcU+BJdhYBSsfww6Wpie66dm90aEjPcbDHfB1Ew2VjSxdMJRJlM6hnwpfMA6Xw4innH8oCbIftvQg+06I6F3N+4e0suxPxyKg2YFgkJiZmim7+HGjDw/HcFMdilxdjWV4YgLTMLWR6Bm5yxkaWsbX0+ey13z7sJsMDOWMprd+dgsViYOUtVqpGJUjIefwa4nBqNaOEIoMG551+aLx1yMQRi4buJ1XbEhEzMDrAtn8uxuEyUnkPm5i/QpMOZ0MPX/rJyafSqvn/9611r2Q9JZzatmG1fNzuHRszWzdaCvmdlpMfLrCyerqUhPEHQNWGfk4MlkQseDzM0c+ouuc81pVEaP2AfpMDpp0eayFuXEebiPJTPzAvz27SnEA2W8Y1Fwxywkprj7WhoSCvh5YxDCJlVYSAnVG0kcs4T1Z556ZIFkOirpxZA2Sc3hrTEhcQIrL1rZa2XEJC2pTzQumXIiCuDlv1PviwEQQvRbhrBfsueohTe2vIQxYyrGNm05mL9vStATEV0D1hkxeGzqEqLOtcpDoWdylYOjoIeKy9T9srAYj+wYJzpjkl3EhBoI1mAwICIOJmT0o80ajFC4HD57FkLN0FIN7bWQMkEXvkfLBQ+p/w7i4GWJeQkOXFZVtyo5kfy/PTlWKzkcARh1ipoRLB6HulKw+Q8rje3xRBfAOiMGt1YsIdE9dAHcuRYYOGITtLuHadFqOspc4ScoiiKYkZmDPapeq0iHr4//t4vpX4NwK3z6JOxX0ySSMuELaukIRoghJbVRFMGkDC8ui5HRSSNzQtiLCRdAczns+wDqdvZrfj5R0QWwzojB3aUBD90P27kWGDjiQhu+HsEiNvPI9XHOzAvQGswBoDKSx4T0AXx06VPUfx89AFVaWr/koScB0Tl6bjltDL+8YNIha52PGMYsAZMdNj6tC2AdnePFkZigodsMfaQm6IC724xtG6rvahgyI89PJKhmgxKxQJ9ybr2Yfh3U7YC1fwVvNlhH7sTkRGRyppfTi4Zh4qEjweKEMUtVt0dLJQSGh/8XdAGsM4KYkOFh+eQ0Zg2x5m0nnYFYR2qCTvZ3pyh0DVbBZRgzLsWNNaZGneZ6RvUp59aL8eeAPUE1DermZ53PmwkXQKizCIOuAevofOE4LUbuvbiYBOfhacCdArizEMPhkpLYPeN2OY9yze4JjKIIZqRNpXXHj5iePkhmLqMFplyl/p0y8XNvm86XnFELu3N96wJYR2f40Jlkf9DcswOQ6E3AEleXVfg8J16KzmPJjFw/MurunaVpIKZdo67TzF/0+TdM58uN0axaXRTjsFmCBPo6YB0dFmQu4P5F95PvO7KZs0ERuOOSGkUQ8B37mtEnEksnpLJyew3zC4ZQEtOdBjd+ccXNdb7knPJj1RRtHqQa2QmELoB1vvQYFSNz0ucc1TGcMYVGgyTgHdmBL2leG49cM3B5Rh2d44bNC9mzj3crDgvdBK2jcwywSxOOuMRpO7Hy7uro6Jy46AJYR+cY4JJ2XDGhZ3vS0dEZMroJWkfnGGC33oxp/77j3QwdHZ1hhC6AdXSOARfPO4nyhvbj3QwdHZ1hhC6AdXSOAWryj8NLAKKjo/PlRvcB6+jo6OjoHAd0Aayjo6Ojo3Mc0AWwjo6Ojo7OceCoBLAQ4nQhxDYhRKkQ4gfHqlE6Ojo6OjojnSMWwEIIA3AfsAQoBC4RQhQeq4bp6Ojo6OiMZI5GA54OlEopd0kpw8CTwPJj0ywdHR0dHZ2RzdEI4HSgZ+aBcm1bL4QQ1wkh1goh1tbU1BzF6XR0dHR0dEYORyOA+8u5J/tskPIBKeVUKeXUxMQhVFDR0dHR0dH5EnA0iTjKgcwenzOAykP9YN26dbVCiD1Hcc6DSQBqj+HxTjRGcv9Gct9gZPdvJPcN9P4NZ07EvmUP9IWQso/SOiSEEEZgO3AKUAGsAb4ipdx0RAc8sjaslVJO/aLO90Uzkvs3kvsGI7t/I7lvoPdvODPc+nbEGrCUMiqE+Bbwb8AA/OWLFL46Ojo6OjrDmaPKBS2lfAV45Ri1RUdHR0dH50vDcM+E9cDxbsDnzEju30juG4zs/o3kvoHev+HMsOrbEfuAdXR0dHR0dI6c4a4B6+jo6OjoDEt0Aayjo6Ojo3McGLYCeCQVghBCZAoh3hZCbBFCbBJCfEfb7hdCvC6E2KH97zvebT1ShBAGIcQnQoiXtc+5QogPtb79XQhhPt5tPFKEEF4hxDNCiK3aGM4aYWP3Xe2+/EwI8YQQwjqcx08I8RchxAEhxGc9tvU7XkLlN9p7ZoMQouT4tXxwBujbL7V7c4MQ4jkhhLfHdz/U+rZNCHHa8Wn10Omvfz2+u0UIIYUQCdrnE37shqUAHoGFIKLA96SU44CZwDe1/vwAeFNKORp4U/s8XPkOsKXH558Dd2t9awCuOS6tOjbcC7wqpRwLTELt54gYOyFEOvBtYKqUsgh1yeHFDO/x+xtw+kHbBhqvJcBo7d91wB++oDYeKX+jb99eB4qklBNRczf8EEB7x1wMjNd+83vt3Xoi8zf69g8hRCawGNjbY/MJP3bDUgAzwgpBSCmrpJQfa3+3oL7A01H79JC220PA2cenhUeHECIDOAP4s/ZZAAuBZ7RdhnPf3MB84EEAKWVYStnICBk7DSNg05Lv2IEqhvH4SSnfAeoP2jzQeC0HHpYqHwBeIUTqF9PSw6e/vkkpX5NSRrWPH6BmLQS1b09KKTuklLuBUtR36wnLAGMHcDdwK73TIZ/wYzdcBfCQCkEMR4QQOUAx8CGQLKWsAlVIA0nHr2VHxT2oD0dc+xwAGnu8FIbz+OUBNcBfNRP7n4UQDkbI2EkpK4D/Q9UsqoAmYB0jZ/w6GWi8Rtq75qvAv7S/R0TfhBBnARVSyk8P+uqE799wFcBDKgQx3BBCOIFngZuklM3Huz3HAiHEMuCAlHJdz8397Dpcx88IlAB/kFIWA20MU3Nzf2i+0OVALpAGOFBNewczXMdvMEbMvSqEuA3V3fVY56Z+dhtWfRNC2IHbgP/X39f9bDuh+jdcBfBhF4I40RFCmFCF72NSyn9om/d3mky0/w8cr/YdBXOAs4QQZaiugoWoGrFXM2nC8B6/cqBcSvmh9vkZVIE8EsYOYBGwW0pZI6WMAP8AZjNyxq+TgcZrRLxrhBBXAsuAS2V38oeR0LdRqJPDT7V3TAbwsRAihWHQv+EqgNcAo7VITDNqIMGLx7lNR4zmE30Q2CKl/HWPr14ErtT+vhJ44Ytu29EipfyhlDJDSpmDOk5vSSkvBd4Gztd2G5Z9A5BSVgP7hBBjtE2nAJsZAWOnsReYKYSwa/dpZ/9GxPj1YKDxehG4QouonQk0dZqqhwtCiNOB7wNnSSnbe3z1InCxEMIihMhFDVb66Hi08UiRUm6UUiZJKXO0d0w5UKI9lyf+2Ekph+U/YClqRN9O4Lbj3Z6j7MtcVNPIBmC99m8pqq/0TWCH9r//eLf1KPt5MvCy9nce6sNeCjwNWI53+46iX5OBtdr4PQ/4RtLYAXcAW4HPgEcAy3AeP+AJVH92BPWFfc1A44VqxrxPe89sRI0GP+59OMy+laL6QjvfLff32P82rW/bgCXHu/1H0r+Dvi8DEobL2OmpKHV0dHR0dI4Dw9UEraOjo6OjM6zRBbCOjo6Ojs5xQBfAOjo6Ojo6xwFdAOvo6Ojo6BwHdAGso6Ojo6NzHNAFsI6Ojo6OznFAF8A6Ojo6OjrHgf8PyHji+qxtalsAAAAASUVORK5CYII=\n",
      "text/plain": [
       "<Figure size 576x288 with 1 Axes>"
      ]
     },
     "metadata": {
      "needs_background": "light"
     },
     "output_type": "display_data"
    }
   ],
   "source": [
    "d2.plot(kind=\"line\", figsize=(8,4))"
   ]
  },
  {
   "cell_type": "markdown",
   "metadata": {},
   "source": [
    "###### There seems to be an abnormal spike in O2 levels at two of the station. Lets have a closer look"
   ]
  },
  {
   "cell_type": "code",
   "execution_count": 14,
   "metadata": {},
   "outputs": [
    {
     "data": {
      "text/plain": [
       "<matplotlib.axes._subplots.AxesSubplot at 0x1dc72d4e888>"
      ]
     },
     "execution_count": 14,
     "metadata": {},
     "output_type": "execute_result"
    },
    {
     "data": {
      "image/png": "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\n",
      "text/plain": [
       "<Figure size 576x288 with 1 Axes>"
      ]
     },
     "metadata": {
      "needs_background": "light"
     },
     "output_type": "display_data"
    }
   ],
   "source": [
    "d2[['O2_1', 'O2_2']].plot(kind=\"line\", figsize=(8, 4))"
   ]
  },
  {
   "cell_type": "code",
   "execution_count": 15,
   "metadata": {},
   "outputs": [
    {
     "data": {
      "text/html": [
       "<div>\n",
       "<style scoped>\n",
       "    .dataframe tbody tr th:only-of-type {\n",
       "        vertical-align: middle;\n",
       "    }\n",
       "\n",
       "    .dataframe tbody tr th {\n",
       "        vertical-align: top;\n",
       "    }\n",
       "\n",
       "    .dataframe thead th {\n",
       "        text-align: right;\n",
       "    }\n",
       "</style>\n",
       "<table border=\"1\" class=\"dataframe\">\n",
       "  <thead>\n",
       "    <tr style=\"text-align: right;\">\n",
       "      <th></th>\n",
       "      <th>target</th>\n",
       "      <th>O2_1</th>\n",
       "      <th>O2_2</th>\n",
       "    </tr>\n",
       "  </thead>\n",
       "  <tbody>\n",
       "    <tr>\n",
       "      <th>count</th>\n",
       "      <td>144.000000</td>\n",
       "      <td>144.000000</td>\n",
       "      <td>144.000000</td>\n",
       "    </tr>\n",
       "    <tr>\n",
       "      <th>mean</th>\n",
       "      <td>9.145764</td>\n",
       "      <td>9.128704</td>\n",
       "      <td>9.164433</td>\n",
       "    </tr>\n",
       "    <tr>\n",
       "      <th>std</th>\n",
       "      <td>2.855711</td>\n",
       "      <td>4.175206</td>\n",
       "      <td>3.754809</td>\n",
       "    </tr>\n",
       "    <tr>\n",
       "      <th>min</th>\n",
       "      <td>1.900000</td>\n",
       "      <td>2.200000</td>\n",
       "      <td>2.200000</td>\n",
       "    </tr>\n",
       "    <tr>\n",
       "      <th>25%</th>\n",
       "      <td>7.347500</td>\n",
       "      <td>7.025000</td>\n",
       "      <td>7.237500</td>\n",
       "    </tr>\n",
       "    <tr>\n",
       "      <th>50%</th>\n",
       "      <td>8.775000</td>\n",
       "      <td>8.700000</td>\n",
       "      <td>8.583333</td>\n",
       "    </tr>\n",
       "    <tr>\n",
       "      <th>75%</th>\n",
       "      <td>10.470000</td>\n",
       "      <td>10.600000</td>\n",
       "      <td>10.500000</td>\n",
       "    </tr>\n",
       "    <tr>\n",
       "      <th>max</th>\n",
       "      <td>19.100000</td>\n",
       "      <td>46.950000</td>\n",
       "      <td>40.900000</td>\n",
       "    </tr>\n",
       "  </tbody>\n",
       "</table>\n",
       "</div>"
      ],
      "text/plain": [
       "           target        O2_1        O2_2\n",
       "count  144.000000  144.000000  144.000000\n",
       "mean     9.145764    9.128704    9.164433\n",
       "std      2.855711    4.175206    3.754809\n",
       "min      1.900000    2.200000    2.200000\n",
       "25%      7.347500    7.025000    7.237500\n",
       "50%      8.775000    8.700000    8.583333\n",
       "75%     10.470000   10.600000   10.500000\n",
       "max     19.100000   46.950000   40.900000"
      ]
     },
     "execution_count": 15,
     "metadata": {},
     "output_type": "execute_result"
    }
   ],
   "source": [
    "d2.describe()"
   ]
  },
  {
   "cell_type": "markdown",
   "metadata": {},
   "source": [
    "###### Concentrations of approximately 46.95 and 40.9 are observed at this stations which is clearly abnormal. From further [investigations](https://www.fondriest.com/environmental-measurements/parameters/water-quality/dissolved-oxygen/#:~:text=As%20oxygen%20in%20the%20atmosphere,100%25%20air%20saturation%20at%20equilibrium.), such high levels of O2 in river water, especially in this data set, might be an error.\n",
    "###### These vaues will be removed and replaced with the mean of the respective column."
   ]
  },
  {
   "cell_type": "code",
   "execution_count": 16,
   "metadata": {},
   "outputs": [
    {
     "data": {
      "text/plain": [
       "<matplotlib.axes._subplots.AxesSubplot at 0x1dc72dcd408>"
      ]
     },
     "execution_count": 16,
     "metadata": {},
     "output_type": "execute_result"
    },
    {
     "data": {
      "image/png": "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\n",
      "text/plain": [
       "<Figure size 504x288 with 1 Axes>"
      ]
     },
     "metadata": {
      "needs_background": "light"
     },
     "output_type": "display_data"
    }
   ],
   "source": [
    "#replacing the maximum values which seem to be outlairs with a mean value\n",
    "d3 = d2.replace(d2[\"O2_1\"].max(), value=d2[\"O2_1\"].mean())\n",
    "d4 = d3.replace(d2[\"O2_2\"].max(), value=d2[\"O2_2\"].mean())\n",
    "\n",
    "d4[['target','O2_1' ,'O2_2']].plot(kind=\"line\", figsize=(7,4))"
   ]
  },
  {
   "cell_type": "code",
   "execution_count": 17,
   "metadata": {},
   "outputs": [
    {
     "data": {
      "image/png": "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\n",
      "text/plain": [
       "<Figure size 432x288 with 1 Axes>"
      ]
     },
     "metadata": {
      "needs_background": "light"
     },
     "output_type": "display_data"
    }
   ],
   "source": [
    "a = sns.distplot(d4)"
   ]
  },
  {
   "cell_type": "markdown",
   "metadata": {},
   "source": [
    "###### With the outlaired removed, we can move onto the next step."
   ]
  },
  {
   "cell_type": "markdown",
   "metadata": {},
   "source": [
    "### Data Modeling <a name=\"modeling\"></a>"
   ]
  },
  {
   "cell_type": "code",
   "execution_count": 18,
   "metadata": {},
   "outputs": [],
   "source": [
    "# Creating the target and feature sets\n",
    "\n",
    "from sklearn.model_selection import train_test_split\n",
    "from sklearn import metrics\n",
    "\n",
    "X = d2.drop('target', axis=1)\n",
    "y = d2[['target']]\n"
   ]
  },
  {
   "cell_type": "code",
   "execution_count": 19,
   "metadata": {},
   "outputs": [],
   "source": [
    "# Creation of the train test split sets as well as standardisation of the data.\n",
    "\n",
    "x_train, x_test, y_train, y_test = train_test_split( X, y, test_size=0.2, random_state=35)\n",
    "X_train = preprocessing.StandardScaler().fit(x_train).transform(x_train)\n",
    "X_test = preprocessing.StandardScaler().fit(x_test).transform(x_test)\n",
    "\n",
    "\n",
    "## change to 1d array\n",
    "y_train = np.array(y_train)\n",
    "y_train = y_train.ravel()\n",
    "\n",
    "y_test = np.array(y_test)\n",
    "y_test = y_test.ravel()\n"
   ]
  },
  {
   "cell_type": "markdown",
   "metadata": {},
   "source": [
    "### Testing various regression models"
   ]
  },
  {
   "cell_type": "code",
   "execution_count": 20,
   "metadata": {},
   "outputs": [
    {
     "name": "stdout",
     "output_type": "stream",
     "text": [
      "R2 model score:   0.6738847909889434\n",
      "RMSE    :   1.523372669341435\n"
     ]
    }
   ],
   "source": [
    "# Testing a simple linear regression\n",
    "\n",
    "from sklearn.metrics import mean_squared_error\n",
    "from sklearn import linear_model\n",
    "reg = linear_model.LinearRegression(fit_intercept=True)\n",
    "reg.fit(X_train, y_train)\n",
    "\n",
    "\n",
    "print('R2 model score:  ', reg.score(X_test, y_test))\n",
    "print('RMSE    :  ', np.sqrt(mean_squared_error(reg.predict(X_test), y_test)))"
   ]
  },
  {
   "cell_type": "code",
   "execution_count": 21,
   "metadata": {},
   "outputs": [],
   "source": [
    "#define a function to test several regression models\n",
    "\n",
    "def model_result(m_odel):\n",
    "    m = m_odel\n",
    "    m.fit(X_train, y_train)\n",
    "    print('R2 model score:  ', m.score(X_test, y_test))\n",
    "    print('RMSE    :  ', np.sqrt(mean_squared_error(m.predict(X_test), y_test)))\n",
    "    "
   ]
  },
  {
   "cell_type": "code",
   "execution_count": 22,
   "metadata": {},
   "outputs": [
    {
     "name": "stdout",
     "output_type": "stream",
     "text": [
      "R2 model score:   0.6738555636506764\n",
      "RMSE    :   1.5234409322275784\n"
     ]
    }
   ],
   "source": [
    "#testing ridge regression\n",
    "from sklearn.linear_model import Ridge\n",
    "model_result(m_odel=Ridge(alpha = 1, random_state = 42))"
   ]
  },
  {
   "cell_type": "code",
   "execution_count": 23,
   "metadata": {},
   "outputs": [
    {
     "name": "stdout",
     "output_type": "stream",
     "text": [
      "R2 model score:   0.34342599967326193\n",
      "RMSE    :   2.1615360025148007\n"
     ]
    }
   ],
   "source": [
    "#testing Lasso regression\n",
    "from sklearn.linear_model import Lasso\n",
    "model_result(m_odel=Lasso(alpha = 1, random_state = 42))"
   ]
  },
  {
   "cell_type": "code",
   "execution_count": 24,
   "metadata": {},
   "outputs": [
    {
     "name": "stdout",
     "output_type": "stream",
     "text": [
      "R2 model score:   0.4641666310342327\n",
      "RMSE    :   1.9526999307412134\n"
     ]
    }
   ],
   "source": [
    "#testing huber regression\n",
    "from sklearn.linear_model import HuberRegressor\n",
    "model_result(m_odel=HuberRegressor())"
   ]
  },
  {
   "cell_type": "code",
   "execution_count": 25,
   "metadata": {},
   "outputs": [
    {
     "name": "stdout",
     "output_type": "stream",
     "text": [
      "R2 model score:   0.48198773201010825\n",
      "RMSE    :   1.9199532571391598\n"
     ]
    }
   ],
   "source": [
    "from sklearn.linear_model import ElasticNet\n",
    "model_result(m_odel=ElasticNet(alpha = 1, random_state = 42))"
   ]
  },
  {
   "cell_type": "markdown",
   "metadata": {},
   "source": [
    "##### From our observation so far, the Ridge regression model had the highest accuracy at **67.38%**"
   ]
  },
  {
   "cell_type": "markdown",
   "metadata": {},
   "source": [
    "## Testing a support vector model"
   ]
  },
  {
   "cell_type": "code",
   "execution_count": 26,
   "metadata": {},
   "outputs": [
    {
     "data": {
      "text/plain": [
       "0.6519530761066887"
      ]
     },
     "execution_count": 26,
     "metadata": {},
     "output_type": "execute_result"
    }
   ],
   "source": [
    "##support vector regressor\n",
    "\n",
    "from sklearn.svm import LinearSVR\n",
    "\n",
    "svm_reg = LinearSVR(epsilon=2.5543, random_state=42)\n",
    "svm_reg.fit(X_train, y_train)\n",
    "svm_reg.score(X_test, y_test)"
   ]
  },
  {
   "cell_type": "markdown",
   "metadata": {},
   "source": [
    "###### The accuracy is not as high as with the linear model"
   ]
  },
  {
   "cell_type": "markdown",
   "metadata": {},
   "source": [
    "## Testing a Random forest model"
   ]
  },
  {
   "cell_type": "code",
   "execution_count": 27,
   "metadata": {},
   "outputs": [
    {
     "data": {
      "text/plain": [
       "RandomForestRegressor(bootstrap=True, ccp_alpha=0.0, criterion='mse',\n",
       "                      max_depth=2, max_features='auto', max_leaf_nodes=None,\n",
       "                      max_samples=None, min_impurity_decrease=0.0,\n",
       "                      min_impurity_split=None, min_samples_leaf=1,\n",
       "                      min_samples_split=2, min_weight_fraction_leaf=0.0,\n",
       "                      n_estimators=100, n_jobs=None, oob_score=False,\n",
       "                      random_state=42, verbose=0, warm_start=False)"
      ]
     },
     "execution_count": 27,
     "metadata": {},
     "output_type": "execute_result"
    }
   ],
   "source": [
    "#random forest\n",
    "\n",
    "from sklearn.ensemble import RandomForestRegressor\n",
    "ftree = RandomForestRegressor(max_depth=2,random_state=42)\n",
    "ftree.fit(X_train, y_train)"
   ]
  },
  {
   "cell_type": "code",
   "execution_count": 28,
   "metadata": {},
   "outputs": [
    {
     "name": "stdout",
     "output_type": "stream",
     "text": [
      "RMSE 1.827387505994674\n",
      "Accuracy 0.5307329762755182\n"
     ]
    }
   ],
   "source": [
    "pre = ftree.predict(X_test)\n",
    "f = mean_squared_error(y_test, pre)\n",
    "Fs = np.sqrt(f)\n",
    "print(\"RMSE\",Fs)\n",
    "print(\"Accuracy\", ftree.score(X_test, y_test))"
   ]
  },
  {
   "cell_type": "markdown",
   "metadata": {},
   "source": [
    "###### We also note that the random forest performs even more poorly."
   ]
  },
  {
   "cell_type": "markdown",
   "metadata": {},
   "source": [
    "### In this step we try using polynomial features see the effect on the accuracy. This involves:"
   ]
  },
  {
   "cell_type": "markdown",
   "metadata": {},
   "source": [
    "##### - importing polynomial features\n",
    "##### - transforming features\n",
    "##### - creating new train test splits"
   ]
  },
  {
   "cell_type": "code",
   "execution_count": 29,
   "metadata": {},
   "outputs": [],
   "source": [
    "\n",
    "#Testing polynomial regression\n",
    "\n",
    "from sklearn.preprocessing import PolynomialFeatures\n",
    "poly_features = PolynomialFeatures(degree=2, include_bias=False)\n",
    "\n",
    "X_poly = poly_features.fit_transform(X)\n",
    "\n",
    "Xp_train, Xp_test, yp_train, yp_test = train_test_split(X_poly, y, test_size=0.2, random_state=35)\n",
    "\n",
    "yp_train = np.array(yp_train)\n",
    "yp_train = yp_train.ravel()\n",
    "\n",
    "yp_test = np.array(yp_test)\n",
    "yp_test = yp_test.ravel()\n"
   ]
  },
  {
   "cell_type": "code",
   "execution_count": 30,
   "metadata": {},
   "outputs": [],
   "source": [
    "# define mode to test accuracy\n",
    "\n",
    "def model_resultp(m_odelp):\n",
    "    mp = m_odelp\n",
    "    mp.fit(Xp_train, yp_train)\n",
    "    print('R2 model score =',mp.score(Xp_test, yp_test))\n",
    "    print('RMSE =',np.sqrt(mean_squared_error(mp.predict(Xp_test), yp_test)))\n",
    "  "
   ]
  },
  {
   "cell_type": "code",
   "execution_count": 31,
   "metadata": {},
   "outputs": [
    {
     "name": "stdout",
     "output_type": "stream",
     "text": [
      "R2 model score = 0.7245637201249651\n",
      "RMSE = 1.4000102166973747\n"
     ]
    }
   ],
   "source": [
    "# Here we test the accuracy of the linear model with polynomial features\n",
    "\n",
    "model_resultp(m_odelp=linear_model.LinearRegression(fit_intercept=True))"
   ]
  },
  {
   "cell_type": "code",
   "execution_count": 32,
   "metadata": {},
   "outputs": [
    {
     "name": "stdout",
     "output_type": "stream",
     "text": [
      "R2 model score = 0.7248091303771064\n",
      "RMSE = 1.3993863819846575\n"
     ]
    }
   ],
   "source": [
    "# Here we test the accuracy of the Ridge regression model with polynomial features\n",
    "\n",
    "model_resultp(m_odelp=Ridge(alpha = 1, random_state = 42))"
   ]
  },
  {
   "cell_type": "code",
   "execution_count": 33,
   "metadata": {},
   "outputs": [
    {
     "name": "stdout",
     "output_type": "stream",
     "text": [
      "R2 model score = 0.7117030292440105\n",
      "RMSE = 1.432322032787696\n"
     ]
    }
   ],
   "source": [
    "# Here we test the accuracy of the Lasso regression model with polynomial features\n",
    "\n",
    "model_resultp(m_odelp=Lasso(alpha = 1, random_state = 42))"
   ]
  },
  {
   "cell_type": "code",
   "execution_count": 34,
   "metadata": {},
   "outputs": [
    {
     "name": "stdout",
     "output_type": "stream",
     "text": [
      "R2 model score = 0.7253190556196185\n",
      "RMSE = 1.3980892580781892\n"
     ]
    }
   ],
   "source": [
    "# Here we test the accuracy of the Huber regression model with polynomial features\n",
    "\n",
    "model_resultp(m_odelp=HuberRegressor())"
   ]
  },
  {
   "cell_type": "code",
   "execution_count": 35,
   "metadata": {},
   "outputs": [
    {
     "name": "stdout",
     "output_type": "stream",
     "text": [
      "R2 model score = 0.7120953465374498\n",
      "RMSE = 1.4313471422085797\n"
     ]
    }
   ],
   "source": [
    "# Here we test the accuracy of the Elastic net model with polynomial features\n",
    "\n",
    "model_resultp(m_odelp=ElasticNet(alpha = 1, random_state = 42))"
   ]
  },
  {
   "cell_type": "markdown",
   "metadata": {},
   "source": [
    "##### There is a huge improvement in model accuracy when using polynomial features. Results all range between **71** and **72%!**"
   ]
  },
  {
   "cell_type": "markdown",
   "metadata": {},
   "source": [
    "## Model Tuning. <a name=\"tuning\"></a>"
   ]
  },
  {
   "cell_type": "markdown",
   "metadata": {},
   "source": [
    "##### Now that we have isolated the best performing models, we will now twick the parameters in order to get the highest accuracy"
   ]
  },
  {
   "cell_type": "markdown",
   "metadata": {},
   "source": [
    "##### First we will tune the hyper parameters for the **ridge regression model with linear features**."
   ]
  },
  {
   "cell_type": "code",
   "execution_count": 36,
   "metadata": {},
   "outputs": [
    {
     "name": "stdout",
     "output_type": "stream",
     "text": [
      "RSE 1.5229661081479828\n",
      "accuracy score 0.6740588365115483\n"
     ]
    }
   ],
   "source": [
    "#Tunning for ridge regression\n",
    "\n",
    "param_grid2 = [\n",
    " \n",
    " {'alpha' : np.logspace(-1,0.00001,1000), 'max_iter' : [1000], \n",
    "  \"fit_intercept\": [True, False], \"solver\": ['svd', 'cholesky', 'lsqr', 'sparse_cg', 'sag', 'saga']}]\n",
    "model2 = Ridge(random_state=42 )\n",
    "grid_search2 = GridSearchCV(model2, param_grid2, cv=5,\n",
    " scoring='neg_mean_squared_error',\n",
    "return_train_score=True)\n",
    "grid_search2.fit(X_train, y_train)\n",
    "\n",
    "RRg = grid_search2.best_estimator_\n",
    "FL1 = RRg.predict(X_test)\n",
    "\n",
    "rmse3 = np.sqrt(mean_squared_error(FL1, y_test))\n",
    "\n",
    "\n",
    "\n",
    "print(\"RSE\",rmse3)\n",
    "ridge_score = RRg.score(X_test, y_test)\n",
    "print(\"accuracy score\", ridge_score)"
   ]
  },
  {
   "cell_type": "markdown",
   "metadata": {},
   "source": [
    "##### Aftertuning, the ridge regression modelimproved slightly from to **67.38%** to **67.40%**"
   ]
  },
  {
   "cell_type": "markdown",
   "metadata": {},
   "source": [
    "##### Now cross validation will be used to fine the best model with **polynomial features**."
   ]
  },
  {
   "cell_type": "code",
   "execution_count": 37,
   "metadata": {},
   "outputs": [
    {
     "name": "stdout",
     "output_type": "stream",
     "text": [
      "ridge\n",
      "Fitting 5 folds for each of 2500 candidates, totalling 12500 fits\n"
     ]
    },
    {
     "name": "stderr",
     "output_type": "stream",
     "text": [
      "[Parallel(n_jobs=-1)]: Using backend LokyBackend with 4 concurrent workers.\n",
      "[Parallel(n_jobs=-1)]: Done  68 tasks      | elapsed:    1.7s\n",
      "[Parallel(n_jobs=-1)]: Done 12194 tasks      | elapsed:    7.2s\n",
      "[Parallel(n_jobs=-1)]: Done 12500 out of 12500 | elapsed:    7.2s finished\n",
      "[Parallel(n_jobs=-1)]: Using backend LokyBackend with 4 concurrent workers.\n"
     ]
    },
    {
     "name": "stdout",
     "output_type": "stream",
     "text": [
      "Ridge(alpha=1.02093948370768, copy_X=True, fit_intercept=True, max_iter=1000,\n",
      "      normalize=False, random_state=None, solver='auto', tol=0.001)\n",
      "R2 score:  0.7248140458344615\n",
      "Test RMSE :  1.3993738840140484\n",
      "**********************************\n",
      "lasso\n",
      "Fitting 5 folds for each of 2500 candidates, totalling 12500 fits\n"
     ]
    },
    {
     "name": "stderr",
     "output_type": "stream",
     "text": [
      "[Parallel(n_jobs=-1)]: Done 312 tasks      | elapsed:    0.3s\n",
      "[Parallel(n_jobs=-1)]: Done 9720 tasks      | elapsed:    6.2s\n",
      "[Parallel(n_jobs=-1)]: Done 12500 out of 12500 | elapsed:    7.5s finished\n",
      "[Parallel(n_jobs=-1)]: Using backend LokyBackend with 4 concurrent workers.\n"
     ]
    },
    {
     "name": "stdout",
     "output_type": "stream",
     "text": [
      "Lasso(alpha=0.25455422642263903, copy_X=True, fit_intercept=True, max_iter=1000,\n",
      "      normalize=False, positive=False, precompute=False, random_state=None,\n",
      "      selection='cyclic', tol=0.0001, warm_start=False)\n",
      "R2 score:  0.7269829337209099\n",
      "Test RMSE :  1.3938483675660196\n",
      "**********************************\n",
      "elasticnet\n",
      "Fitting 5 folds for each of 2500 candidates, totalling 12500 fits\n"
     ]
    },
    {
     "name": "stderr",
     "output_type": "stream",
     "text": [
      "[Parallel(n_jobs=-1)]: Done 312 tasks      | elapsed:    0.4s\n",
      "[Parallel(n_jobs=-1)]: Done 9720 tasks      | elapsed:    6.2s\n",
      "[Parallel(n_jobs=-1)]: Done 12500 out of 12500 | elapsed:    7.6s finished\n",
      "[Parallel(n_jobs=-1)]: Using backend LokyBackend with 4 concurrent workers.\n"
     ]
    },
    {
     "name": "stdout",
     "output_type": "stream",
     "text": [
      "ElasticNet(alpha=0.5088416275461243, copy_X=True, fit_intercept=True,\n",
      "           l1_ratio=0.5, max_iter=1000, normalize=False, positive=False,\n",
      "           precompute=False, random_state=None, selection='cyclic', tol=0.0001,\n",
      "           warm_start=False)\n",
      "R2 score:  0.7233111469701388\n",
      "Test RMSE :  1.4031899467811424\n",
      "**********************************\n",
      "huber\n",
      "Fitting 5 folds for each of 2500 candidates, totalling 12500 fits\n"
     ]
    },
    {
     "name": "stderr",
     "output_type": "stream",
     "text": [
      "[Parallel(n_jobs=-1)]: Done 128 tasks      | elapsed:    1.2s\n",
      "[Parallel(n_jobs=-1)]: Done 728 tasks      | elapsed:    7.0s\n",
      "[Parallel(n_jobs=-1)]: Done 1728 tasks      | elapsed:   16.1s\n",
      "[Parallel(n_jobs=-1)]: Done 3128 tasks      | elapsed:   29.4s\n",
      "[Parallel(n_jobs=-1)]: Done 4928 tasks      | elapsed:   46.1s\n",
      "[Parallel(n_jobs=-1)]: Done 7128 tasks      | elapsed:  1.1min\n",
      "[Parallel(n_jobs=-1)]: Done 9728 tasks      | elapsed:  1.6min\n"
     ]
    },
    {
     "name": "stdout",
     "output_type": "stream",
     "text": [
      "HuberRegressor(alpha=1.0199907622273603, epsilon=1.35, fit_intercept=True,\n",
      "               max_iter=1000, tol=1e-05, warm_start=False)\n",
      "R2 score:  0.7263029994611425\n",
      "Test RMSE :  1.3955829403162034\n",
      "**********************************\n"
     ]
    },
    {
     "name": "stderr",
     "output_type": "stream",
     "text": [
      "[Parallel(n_jobs=-1)]: Done 12500 out of 12500 | elapsed:  2.0min finished\n"
     ]
    }
   ],
   "source": [
    "#cross validation on polynomial features\n",
    "\n",
    "modelsT = [Ridge, Lasso, ElasticNet, HuberRegressor]\n",
    "model_names = ['ridge', 'lasso', 'elasticnet', 'huber']\n",
    "\n",
    "for x in range(len(modelsT)):\n",
    "    print(model_names[x])\n",
    "    \n",
    "    param_grid = {'alpha' : np.logspace(-1,0.009,2500),\n",
    "                  'max_iter' : [1000]}\n",
    "    lin_model  = modelsT[x]() \n",
    "    model_cv   = GridSearchCV(estimator  = lin_model, \n",
    "                        param_grid = [param_grid],\n",
    "                        cv = 5,\n",
    "                        scoring='neg_mean_squared_error', \n",
    "                        n_jobs = -1,\n",
    "                        verbose = 1)\n",
    "    model_cv.fit(Xp_train, yp_train)\n",
    "\n",
    "    best_model              = model_cv.best_estimator_\n",
    "    print(best_model)\n",
    "    bestmodelFitTime        = model_cv.cv_results_['mean_fit_time'][model_cv.best_index_]\n",
    "    bestmodelScoreTime      = model_cv.cv_results_['mean_score_time'][model_cv.best_index_]\n",
    "    best_model.fit(Xp_train, yp_train)\n",
    "    print('R2 score: ', best_model.score(Xp_test, yp_test))\n",
    "\n",
    "    \n",
    "    y_pred = best_model.predict(Xp_test)\n",
    "    rmse   = np.sqrt(mean_squared_error(y_pred, yp_test))\n",
    "    print('Test RMSE : ', rmse)\n",
    "    print(\"**********************************\")"
   ]
  },
  {
   "cell_type": "markdown",
   "metadata": {},
   "source": [
    "#### The best performing model turned out to be the Lasso regression with alpha = 0.254. An accuracy of **72.69%** was achieved!"
   ]
  },
  {
   "cell_type": "code",
   "execution_count": 38,
   "metadata": {},
   "outputs": [
    {
     "data": {
      "text/plain": [
       "0.7269829337209099"
      ]
     },
     "execution_count": 38,
     "metadata": {},
     "output_type": "execute_result"
    }
   ],
   "source": [
    "my_model = Lasso(alpha=0.25455422642263903, copy_X=True, fit_intercept=True, max_iter=1000,\n",
    "      normalize=False, positive=False, precompute=False, random_state=None,\n",
    "      selection='cyclic', tol=0.0001, warm_start=False)\n",
    "\n",
    "my_model.fit(Xp_train, yp_train)\n",
    "my_model.score(Xp_test, yp_test)"
   ]
  },
  {
   "cell_type": "code",
   "execution_count": 39,
   "metadata": {},
   "outputs": [
    {
     "data": {
      "text/plain": [
       "array([11.95632954,  7.06946834,  5.40398682,  7.06452674,  8.82430487,\n",
       "        7.88080526,  6.98248179,  7.13200612,  7.57949965, 12.22568245,\n",
       "        8.71535812,  7.57970402, 11.54429009, 10.76302534, 10.5215814 ,\n",
       "       11.17764563,  8.65765612, 10.40325976,  9.14998684,  8.44369576,\n",
       "        7.58002349, 15.04550624,  7.09046533,  7.9250298 ,  8.6492542 ,\n",
       "        8.03031738,  8.99402348,  6.59389182, 13.76433708])"
      ]
     },
     "execution_count": 39,
     "metadata": {},
     "output_type": "execute_result"
    }
   ],
   "source": [
    "# Predicting the target 02 concentrations in the remainded of the test set.\n",
    "my_model.predict(Xp_test)"
   ]
  },
  {
   "cell_type": "markdown",
   "metadata": {},
   "source": [
    "### Predicting O2 concentrations at the target station for test data <a name=\"predictions\"></a>"
   ]
  },
  {
   "cell_type": "code",
   "execution_count": 40,
   "metadata": {},
   "outputs": [
    {
     "data": {
      "text/html": [
       "<div>\n",
       "<style scoped>\n",
       "    .dataframe tbody tr th:only-of-type {\n",
       "        vertical-align: middle;\n",
       "    }\n",
       "\n",
       "    .dataframe tbody tr th {\n",
       "        vertical-align: top;\n",
       "    }\n",
       "\n",
       "    .dataframe thead th {\n",
       "        text-align: right;\n",
       "    }\n",
       "</style>\n",
       "<table border=\"1\" class=\"dataframe\">\n",
       "  <thead>\n",
       "    <tr style=\"text-align: right;\">\n",
       "      <th></th>\n",
       "      <th>Id</th>\n",
       "      <th>O2_1</th>\n",
       "      <th>O2_2</th>\n",
       "      <th>O2_3</th>\n",
       "      <th>O2_4</th>\n",
       "      <th>O2_5</th>\n",
       "      <th>O2_6</th>\n",
       "      <th>O2_7</th>\n",
       "      <th>NH4_1</th>\n",
       "      <th>NH4_2</th>\n",
       "      <th>...</th>\n",
       "      <th>NO3_5</th>\n",
       "      <th>NO3_6</th>\n",
       "      <th>NO3_7</th>\n",
       "      <th>BOD5_1</th>\n",
       "      <th>BOD5_2</th>\n",
       "      <th>BOD5_3</th>\n",
       "      <th>BOD5_4</th>\n",
       "      <th>BOD5_5</th>\n",
       "      <th>BOD5_6</th>\n",
       "      <th>BOD5_7</th>\n",
       "    </tr>\n",
       "  </thead>\n",
       "  <tbody>\n",
       "    <tr>\n",
       "      <th>0</th>\n",
       "      <td>1</td>\n",
       "      <td>10.90</td>\n",
       "      <td>10.60</td>\n",
       "      <td>NaN</td>\n",
       "      <td>NaN</td>\n",
       "      <td>NaN</td>\n",
       "      <td>NaN</td>\n",
       "      <td>NaN</td>\n",
       "      <td>0.63</td>\n",
       "      <td>0.600</td>\n",
       "      <td>...</td>\n",
       "      <td>NaN</td>\n",
       "      <td>NaN</td>\n",
       "      <td>NaN</td>\n",
       "      <td>6.800</td>\n",
       "      <td>5.40</td>\n",
       "      <td>NaN</td>\n",
       "      <td>NaN</td>\n",
       "      <td>NaN</td>\n",
       "      <td>NaN</td>\n",
       "      <td>NaN</td>\n",
       "    </tr>\n",
       "    <tr>\n",
       "      <th>1</th>\n",
       "      <td>2</td>\n",
       "      <td>13.15</td>\n",
       "      <td>12.62</td>\n",
       "      <td>NaN</td>\n",
       "      <td>NaN</td>\n",
       "      <td>NaN</td>\n",
       "      <td>NaN</td>\n",
       "      <td>NaN</td>\n",
       "      <td>1.50</td>\n",
       "      <td>0.870</td>\n",
       "      <td>...</td>\n",
       "      <td>NaN</td>\n",
       "      <td>NaN</td>\n",
       "      <td>NaN</td>\n",
       "      <td>4.710</td>\n",
       "      <td>4.20</td>\n",
       "      <td>NaN</td>\n",
       "      <td>NaN</td>\n",
       "      <td>NaN</td>\n",
       "      <td>NaN</td>\n",
       "      <td>NaN</td>\n",
       "    </tr>\n",
       "    <tr>\n",
       "      <th>2</th>\n",
       "      <td>32</td>\n",
       "      <td>3.80</td>\n",
       "      <td>6.50</td>\n",
       "      <td>NaN</td>\n",
       "      <td>NaN</td>\n",
       "      <td>NaN</td>\n",
       "      <td>NaN</td>\n",
       "      <td>NaN</td>\n",
       "      <td>0.32</td>\n",
       "      <td>0.540</td>\n",
       "      <td>...</td>\n",
       "      <td>NaN</td>\n",
       "      <td>NaN</td>\n",
       "      <td>NaN</td>\n",
       "      <td>2.100</td>\n",
       "      <td>3.40</td>\n",
       "      <td>NaN</td>\n",
       "      <td>NaN</td>\n",
       "      <td>NaN</td>\n",
       "      <td>NaN</td>\n",
       "      <td>NaN</td>\n",
       "    </tr>\n",
       "    <tr>\n",
       "      <th>3</th>\n",
       "      <td>40</td>\n",
       "      <td>10.45</td>\n",
       "      <td>10.65</td>\n",
       "      <td>NaN</td>\n",
       "      <td>NaN</td>\n",
       "      <td>NaN</td>\n",
       "      <td>NaN</td>\n",
       "      <td>NaN</td>\n",
       "      <td>1.38</td>\n",
       "      <td>1.635</td>\n",
       "      <td>...</td>\n",
       "      <td>NaN</td>\n",
       "      <td>NaN</td>\n",
       "      <td>NaN</td>\n",
       "      <td>5.350</td>\n",
       "      <td>5.85</td>\n",
       "      <td>NaN</td>\n",
       "      <td>NaN</td>\n",
       "      <td>NaN</td>\n",
       "      <td>NaN</td>\n",
       "      <td>NaN</td>\n",
       "    </tr>\n",
       "    <tr>\n",
       "      <th>4</th>\n",
       "      <td>43</td>\n",
       "      <td>8.10</td>\n",
       "      <td>8.10</td>\n",
       "      <td>NaN</td>\n",
       "      <td>NaN</td>\n",
       "      <td>NaN</td>\n",
       "      <td>NaN</td>\n",
       "      <td>NaN</td>\n",
       "      <td>1.72</td>\n",
       "      <td>1.680</td>\n",
       "      <td>...</td>\n",
       "      <td>NaN</td>\n",
       "      <td>NaN</td>\n",
       "      <td>NaN</td>\n",
       "      <td>4.800</td>\n",
       "      <td>5.30</td>\n",
       "      <td>NaN</td>\n",
       "      <td>NaN</td>\n",
       "      <td>NaN</td>\n",
       "      <td>NaN</td>\n",
       "      <td>NaN</td>\n",
       "    </tr>\n",
       "    <tr>\n",
       "      <th>...</th>\n",
       "      <td>...</td>\n",
       "      <td>...</td>\n",
       "      <td>...</td>\n",
       "      <td>...</td>\n",
       "      <td>...</td>\n",
       "      <td>...</td>\n",
       "      <td>...</td>\n",
       "      <td>...</td>\n",
       "      <td>...</td>\n",
       "      <td>...</td>\n",
       "      <td>...</td>\n",
       "      <td>...</td>\n",
       "      <td>...</td>\n",
       "      <td>...</td>\n",
       "      <td>...</td>\n",
       "      <td>...</td>\n",
       "      <td>...</td>\n",
       "      <td>...</td>\n",
       "      <td>...</td>\n",
       "      <td>...</td>\n",
       "      <td>...</td>\n",
       "    </tr>\n",
       "    <tr>\n",
       "      <th>58</th>\n",
       "      <td>206</td>\n",
       "      <td>4.14</td>\n",
       "      <td>7.60</td>\n",
       "      <td>8.11</td>\n",
       "      <td>2.09</td>\n",
       "      <td>0.6</td>\n",
       "      <td>12.76</td>\n",
       "      <td>0.463</td>\n",
       "      <td>0.37</td>\n",
       "      <td>0.260</td>\n",
       "      <td>...</td>\n",
       "      <td>1.43</td>\n",
       "      <td>0.872</td>\n",
       "      <td>1.22</td>\n",
       "      <td>5.800</td>\n",
       "      <td>6.60</td>\n",
       "      <td>1.75</td>\n",
       "      <td>5.3</td>\n",
       "      <td>15.1</td>\n",
       "      <td>4.6</td>\n",
       "      <td>15.6</td>\n",
       "    </tr>\n",
       "    <tr>\n",
       "      <th>59</th>\n",
       "      <td>209</td>\n",
       "      <td>9.90</td>\n",
       "      <td>8.20</td>\n",
       "      <td>NaN</td>\n",
       "      <td>NaN</td>\n",
       "      <td>NaN</td>\n",
       "      <td>NaN</td>\n",
       "      <td>NaN</td>\n",
       "      <td>0.39</td>\n",
       "      <td>0.325</td>\n",
       "      <td>...</td>\n",
       "      <td>NaN</td>\n",
       "      <td>NaN</td>\n",
       "      <td>NaN</td>\n",
       "      <td>3.685</td>\n",
       "      <td>4.85</td>\n",
       "      <td>NaN</td>\n",
       "      <td>NaN</td>\n",
       "      <td>NaN</td>\n",
       "      <td>NaN</td>\n",
       "      <td>NaN</td>\n",
       "    </tr>\n",
       "    <tr>\n",
       "      <th>60</th>\n",
       "      <td>210</td>\n",
       "      <td>8.00</td>\n",
       "      <td>9.50</td>\n",
       "      <td>NaN</td>\n",
       "      <td>NaN</td>\n",
       "      <td>NaN</td>\n",
       "      <td>NaN</td>\n",
       "      <td>NaN</td>\n",
       "      <td>0.43</td>\n",
       "      <td>0.210</td>\n",
       "      <td>...</td>\n",
       "      <td>NaN</td>\n",
       "      <td>NaN</td>\n",
       "      <td>NaN</td>\n",
       "      <td>7.500</td>\n",
       "      <td>4.80</td>\n",
       "      <td>NaN</td>\n",
       "      <td>NaN</td>\n",
       "      <td>NaN</td>\n",
       "      <td>NaN</td>\n",
       "      <td>NaN</td>\n",
       "    </tr>\n",
       "    <tr>\n",
       "      <th>61</th>\n",
       "      <td>215</td>\n",
       "      <td>4.10</td>\n",
       "      <td>4.30</td>\n",
       "      <td>NaN</td>\n",
       "      <td>NaN</td>\n",
       "      <td>NaN</td>\n",
       "      <td>NaN</td>\n",
       "      <td>NaN</td>\n",
       "      <td>0.36</td>\n",
       "      <td>0.420</td>\n",
       "      <td>...</td>\n",
       "      <td>NaN</td>\n",
       "      <td>NaN</td>\n",
       "      <td>NaN</td>\n",
       "      <td>8.000</td>\n",
       "      <td>6.80</td>\n",
       "      <td>NaN</td>\n",
       "      <td>NaN</td>\n",
       "      <td>NaN</td>\n",
       "      <td>NaN</td>\n",
       "      <td>NaN</td>\n",
       "    </tr>\n",
       "    <tr>\n",
       "      <th>62</th>\n",
       "      <td>216</td>\n",
       "      <td>9.70</td>\n",
       "      <td>9.10</td>\n",
       "      <td>NaN</td>\n",
       "      <td>NaN</td>\n",
       "      <td>NaN</td>\n",
       "      <td>NaN</td>\n",
       "      <td>NaN</td>\n",
       "      <td>0.35</td>\n",
       "      <td>0.300</td>\n",
       "      <td>...</td>\n",
       "      <td>NaN</td>\n",
       "      <td>NaN</td>\n",
       "      <td>NaN</td>\n",
       "      <td>4.000</td>\n",
       "      <td>5.00</td>\n",
       "      <td>NaN</td>\n",
       "      <td>NaN</td>\n",
       "      <td>NaN</td>\n",
       "      <td>NaN</td>\n",
       "      <td>NaN</td>\n",
       "    </tr>\n",
       "  </tbody>\n",
       "</table>\n",
       "<p>63 rows × 36 columns</p>\n",
       "</div>"
      ],
      "text/plain": [
       "     Id   O2_1   O2_2  O2_3  O2_4  O2_5   O2_6   O2_7  NH4_1  NH4_2  ...  \\\n",
       "0     1  10.90  10.60   NaN   NaN   NaN    NaN    NaN   0.63  0.600  ...   \n",
       "1     2  13.15  12.62   NaN   NaN   NaN    NaN    NaN   1.50  0.870  ...   \n",
       "2    32   3.80   6.50   NaN   NaN   NaN    NaN    NaN   0.32  0.540  ...   \n",
       "3    40  10.45  10.65   NaN   NaN   NaN    NaN    NaN   1.38  1.635  ...   \n",
       "4    43   8.10   8.10   NaN   NaN   NaN    NaN    NaN   1.72  1.680  ...   \n",
       "..  ...    ...    ...   ...   ...   ...    ...    ...    ...    ...  ...   \n",
       "58  206   4.14   7.60  8.11  2.09   0.6  12.76  0.463   0.37  0.260  ...   \n",
       "59  209   9.90   8.20   NaN   NaN   NaN    NaN    NaN   0.39  0.325  ...   \n",
       "60  210   8.00   9.50   NaN   NaN   NaN    NaN    NaN   0.43  0.210  ...   \n",
       "61  215   4.10   4.30   NaN   NaN   NaN    NaN    NaN   0.36  0.420  ...   \n",
       "62  216   9.70   9.10   NaN   NaN   NaN    NaN    NaN   0.35  0.300  ...   \n",
       "\n",
       "    NO3_5  NO3_6  NO3_7  BOD5_1  BOD5_2  BOD5_3  BOD5_4  BOD5_5  BOD5_6  \\\n",
       "0     NaN    NaN    NaN   6.800    5.40     NaN     NaN     NaN     NaN   \n",
       "1     NaN    NaN    NaN   4.710    4.20     NaN     NaN     NaN     NaN   \n",
       "2     NaN    NaN    NaN   2.100    3.40     NaN     NaN     NaN     NaN   \n",
       "3     NaN    NaN    NaN   5.350    5.85     NaN     NaN     NaN     NaN   \n",
       "4     NaN    NaN    NaN   4.800    5.30     NaN     NaN     NaN     NaN   \n",
       "..    ...    ...    ...     ...     ...     ...     ...     ...     ...   \n",
       "58   1.43  0.872   1.22   5.800    6.60    1.75     5.3    15.1     4.6   \n",
       "59    NaN    NaN    NaN   3.685    4.85     NaN     NaN     NaN     NaN   \n",
       "60    NaN    NaN    NaN   7.500    4.80     NaN     NaN     NaN     NaN   \n",
       "61    NaN    NaN    NaN   8.000    6.80     NaN     NaN     NaN     NaN   \n",
       "62    NaN    NaN    NaN   4.000    5.00     NaN     NaN     NaN     NaN   \n",
       "\n",
       "    BOD5_7  \n",
       "0      NaN  \n",
       "1      NaN  \n",
       "2      NaN  \n",
       "3      NaN  \n",
       "4      NaN  \n",
       "..     ...  \n",
       "58    15.6  \n",
       "59     NaN  \n",
       "60     NaN  \n",
       "61     NaN  \n",
       "62     NaN  \n",
       "\n",
       "[63 rows x 36 columns]"
      ]
     },
     "execution_count": 40,
     "metadata": {},
     "output_type": "execute_result"
    }
   ],
   "source": [
    "##Loading test data\n",
    "Test = pd.read_csv(r'C:\\Users\\danny\\Desktop\\projects\\DO_prediction\\test.csv')\n",
    "Test"
   ]
  },
  {
   "cell_type": "code",
   "execution_count": 41,
   "metadata": {},
   "outputs": [
    {
     "data": {
      "text/html": [
       "<div>\n",
       "<style scoped>\n",
       "    .dataframe tbody tr th:only-of-type {\n",
       "        vertical-align: middle;\n",
       "    }\n",
       "\n",
       "    .dataframe tbody tr th {\n",
       "        vertical-align: top;\n",
       "    }\n",
       "\n",
       "    .dataframe thead th {\n",
       "        text-align: right;\n",
       "    }\n",
       "</style>\n",
       "<table border=\"1\" class=\"dataframe\">\n",
       "  <thead>\n",
       "    <tr style=\"text-align: right;\">\n",
       "      <th></th>\n",
       "      <th>Id</th>\n",
       "      <th>O2_1</th>\n",
       "      <th>O2_2</th>\n",
       "      <th>O2_3</th>\n",
       "      <th>O2_4</th>\n",
       "      <th>O2_5</th>\n",
       "      <th>O2_6</th>\n",
       "      <th>O2_7</th>\n",
       "      <th>NH4_1</th>\n",
       "      <th>NH4_2</th>\n",
       "      <th>...</th>\n",
       "      <th>NO3_5</th>\n",
       "      <th>NO3_6</th>\n",
       "      <th>NO3_7</th>\n",
       "      <th>BOD5_1</th>\n",
       "      <th>BOD5_2</th>\n",
       "      <th>BOD5_3</th>\n",
       "      <th>BOD5_4</th>\n",
       "      <th>BOD5_5</th>\n",
       "      <th>BOD5_6</th>\n",
       "      <th>BOD5_7</th>\n",
       "    </tr>\n",
       "  </thead>\n",
       "  <tbody>\n",
       "    <tr>\n",
       "      <th>count</th>\n",
       "      <td>63.000000</td>\n",
       "      <td>63.000000</td>\n",
       "      <td>63.000000</td>\n",
       "      <td>15.000000</td>\n",
       "      <td>15.000000</td>\n",
       "      <td>16.000000</td>\n",
       "      <td>14.000000</td>\n",
       "      <td>14.000000</td>\n",
       "      <td>63.000000</td>\n",
       "      <td>63.000000</td>\n",
       "      <td>...</td>\n",
       "      <td>16.000000</td>\n",
       "      <td>14.000000</td>\n",
       "      <td>14.000000</td>\n",
       "      <td>63.000000</td>\n",
       "      <td>63.000000</td>\n",
       "      <td>15.000000</td>\n",
       "      <td>15.000000</td>\n",
       "      <td>16.000000</td>\n",
       "      <td>14.000000</td>\n",
       "      <td>14.000000</td>\n",
       "    </tr>\n",
       "    <tr>\n",
       "      <th>mean</th>\n",
       "      <td>124.968254</td>\n",
       "      <td>8.675794</td>\n",
       "      <td>9.819921</td>\n",
       "      <td>9.882000</td>\n",
       "      <td>8.354667</td>\n",
       "      <td>6.629062</td>\n",
       "      <td>9.590714</td>\n",
       "      <td>7.607714</td>\n",
       "      <td>0.413307</td>\n",
       "      <td>0.434841</td>\n",
       "      <td>...</td>\n",
       "      <td>6.679688</td>\n",
       "      <td>4.652286</td>\n",
       "      <td>6.256786</td>\n",
       "      <td>5.223889</td>\n",
       "      <td>5.051376</td>\n",
       "      <td>4.439333</td>\n",
       "      <td>6.046667</td>\n",
       "      <td>7.562500</td>\n",
       "      <td>4.198571</td>\n",
       "      <td>5.190714</td>\n",
       "    </tr>\n",
       "    <tr>\n",
       "      <th>std</th>\n",
       "      <td>55.778643</td>\n",
       "      <td>2.988272</td>\n",
       "      <td>6.880399</td>\n",
       "      <td>3.844016</td>\n",
       "      <td>3.660164</td>\n",
       "      <td>3.262051</td>\n",
       "      <td>1.607169</td>\n",
       "      <td>3.606757</td>\n",
       "      <td>0.359051</td>\n",
       "      <td>0.409445</td>\n",
       "      <td>...</td>\n",
       "      <td>4.778864</td>\n",
       "      <td>4.242196</td>\n",
       "      <td>5.767541</td>\n",
       "      <td>1.906394</td>\n",
       "      <td>1.739672</td>\n",
       "      <td>2.060931</td>\n",
       "      <td>2.221575</td>\n",
       "      <td>4.526378</td>\n",
       "      <td>1.709340</td>\n",
       "      <td>4.079520</td>\n",
       "    </tr>\n",
       "    <tr>\n",
       "      <th>min</th>\n",
       "      <td>1.000000</td>\n",
       "      <td>3.420000</td>\n",
       "      <td>4.300000</td>\n",
       "      <td>0.000000</td>\n",
       "      <td>0.000000</td>\n",
       "      <td>0.000000</td>\n",
       "      <td>7.100000</td>\n",
       "      <td>0.463000</td>\n",
       "      <td>0.022000</td>\n",
       "      <td>0.023000</td>\n",
       "      <td>...</td>\n",
       "      <td>0.400000</td>\n",
       "      <td>0.872000</td>\n",
       "      <td>1.120000</td>\n",
       "      <td>0.620000</td>\n",
       "      <td>0.630000</td>\n",
       "      <td>1.750000</td>\n",
       "      <td>2.620000</td>\n",
       "      <td>3.300000</td>\n",
       "      <td>2.430000</td>\n",
       "      <td>1.300000</td>\n",
       "    </tr>\n",
       "    <tr>\n",
       "      <th>25%</th>\n",
       "      <td>84.500000</td>\n",
       "      <td>6.825000</td>\n",
       "      <td>6.600000</td>\n",
       "      <td>7.605000</td>\n",
       "      <td>7.250000</td>\n",
       "      <td>4.825000</td>\n",
       "      <td>8.900000</td>\n",
       "      <td>5.102500</td>\n",
       "      <td>0.233333</td>\n",
       "      <td>0.180000</td>\n",
       "      <td>...</td>\n",
       "      <td>2.885000</td>\n",
       "      <td>1.280000</td>\n",
       "      <td>1.697500</td>\n",
       "      <td>3.975000</td>\n",
       "      <td>4.000000</td>\n",
       "      <td>3.450000</td>\n",
       "      <td>4.880000</td>\n",
       "      <td>4.462500</td>\n",
       "      <td>2.862500</td>\n",
       "      <td>2.925000</td>\n",
       "    </tr>\n",
       "    <tr>\n",
       "      <th>50%</th>\n",
       "      <td>126.000000</td>\n",
       "      <td>8.300000</td>\n",
       "      <td>8.200000</td>\n",
       "      <td>10.760000</td>\n",
       "      <td>9.050000</td>\n",
       "      <td>7.900000</td>\n",
       "      <td>9.110000</td>\n",
       "      <td>8.215000</td>\n",
       "      <td>0.340000</td>\n",
       "      <td>0.290000</td>\n",
       "      <td>...</td>\n",
       "      <td>5.605000</td>\n",
       "      <td>4.050000</td>\n",
       "      <td>4.727500</td>\n",
       "      <td>4.800000</td>\n",
       "      <td>4.800000</td>\n",
       "      <td>4.050000</td>\n",
       "      <td>6.060000</td>\n",
       "      <td>5.735000</td>\n",
       "      <td>4.300000</td>\n",
       "      <td>4.215000</td>\n",
       "    </tr>\n",
       "    <tr>\n",
       "      <th>75%</th>\n",
       "      <td>176.000000</td>\n",
       "      <td>10.200000</td>\n",
       "      <td>10.583333</td>\n",
       "      <td>13.050000</td>\n",
       "      <td>10.490000</td>\n",
       "      <td>8.975000</td>\n",
       "      <td>10.550000</td>\n",
       "      <td>9.100000</td>\n",
       "      <td>0.455000</td>\n",
       "      <td>0.537500</td>\n",
       "      <td>...</td>\n",
       "      <td>9.262500</td>\n",
       "      <td>5.452500</td>\n",
       "      <td>8.932500</td>\n",
       "      <td>6.400000</td>\n",
       "      <td>6.050000</td>\n",
       "      <td>4.720000</td>\n",
       "      <td>6.700000</td>\n",
       "      <td>9.387500</td>\n",
       "      <td>4.675000</td>\n",
       "      <td>5.260000</td>\n",
       "    </tr>\n",
       "    <tr>\n",
       "      <th>max</th>\n",
       "      <td>216.000000</td>\n",
       "      <td>18.700000</td>\n",
       "      <td>54.000000</td>\n",
       "      <td>14.400000</td>\n",
       "      <td>13.400000</td>\n",
       "      <td>10.400000</td>\n",
       "      <td>12.760000</td>\n",
       "      <td>13.760000</td>\n",
       "      <td>1.720000</td>\n",
       "      <td>1.920000</td>\n",
       "      <td>...</td>\n",
       "      <td>17.600000</td>\n",
       "      <td>16.600000</td>\n",
       "      <td>19.500000</td>\n",
       "      <td>9.800000</td>\n",
       "      <td>11.100000</td>\n",
       "      <td>9.590000</td>\n",
       "      <td>11.600000</td>\n",
       "      <td>18.500000</td>\n",
       "      <td>9.200000</td>\n",
       "      <td>15.600000</td>\n",
       "    </tr>\n",
       "  </tbody>\n",
       "</table>\n",
       "<p>8 rows × 36 columns</p>\n",
       "</div>"
      ],
      "text/plain": [
       "               Id       O2_1       O2_2       O2_3       O2_4       O2_5  \\\n",
       "count   63.000000  63.000000  63.000000  15.000000  15.000000  16.000000   \n",
       "mean   124.968254   8.675794   9.819921   9.882000   8.354667   6.629062   \n",
       "std     55.778643   2.988272   6.880399   3.844016   3.660164   3.262051   \n",
       "min      1.000000   3.420000   4.300000   0.000000   0.000000   0.000000   \n",
       "25%     84.500000   6.825000   6.600000   7.605000   7.250000   4.825000   \n",
       "50%    126.000000   8.300000   8.200000  10.760000   9.050000   7.900000   \n",
       "75%    176.000000  10.200000  10.583333  13.050000  10.490000   8.975000   \n",
       "max    216.000000  18.700000  54.000000  14.400000  13.400000  10.400000   \n",
       "\n",
       "            O2_6       O2_7      NH4_1      NH4_2  ...      NO3_5      NO3_6  \\\n",
       "count  14.000000  14.000000  63.000000  63.000000  ...  16.000000  14.000000   \n",
       "mean    9.590714   7.607714   0.413307   0.434841  ...   6.679688   4.652286   \n",
       "std     1.607169   3.606757   0.359051   0.409445  ...   4.778864   4.242196   \n",
       "min     7.100000   0.463000   0.022000   0.023000  ...   0.400000   0.872000   \n",
       "25%     8.900000   5.102500   0.233333   0.180000  ...   2.885000   1.280000   \n",
       "50%     9.110000   8.215000   0.340000   0.290000  ...   5.605000   4.050000   \n",
       "75%    10.550000   9.100000   0.455000   0.537500  ...   9.262500   5.452500   \n",
       "max    12.760000  13.760000   1.720000   1.920000  ...  17.600000  16.600000   \n",
       "\n",
       "           NO3_7     BOD5_1     BOD5_2     BOD5_3     BOD5_4     BOD5_5  \\\n",
       "count  14.000000  63.000000  63.000000  15.000000  15.000000  16.000000   \n",
       "mean    6.256786   5.223889   5.051376   4.439333   6.046667   7.562500   \n",
       "std     5.767541   1.906394   1.739672   2.060931   2.221575   4.526378   \n",
       "min     1.120000   0.620000   0.630000   1.750000   2.620000   3.300000   \n",
       "25%     1.697500   3.975000   4.000000   3.450000   4.880000   4.462500   \n",
       "50%     4.727500   4.800000   4.800000   4.050000   6.060000   5.735000   \n",
       "75%     8.932500   6.400000   6.050000   4.720000   6.700000   9.387500   \n",
       "max    19.500000   9.800000  11.100000   9.590000  11.600000  18.500000   \n",
       "\n",
       "          BOD5_6     BOD5_7  \n",
       "count  14.000000  14.000000  \n",
       "mean    4.198571   5.190714  \n",
       "std     1.709340   4.079520  \n",
       "min     2.430000   1.300000  \n",
       "25%     2.862500   2.925000  \n",
       "50%     4.300000   4.215000  \n",
       "75%     4.675000   5.260000  \n",
       "max     9.200000  15.600000  \n",
       "\n",
       "[8 rows x 36 columns]"
      ]
     },
     "execution_count": 41,
     "metadata": {},
     "output_type": "execute_result"
    }
   ],
   "source": [
    "Test.describe()"
   ]
  },
  {
   "cell_type": "code",
   "execution_count": 42,
   "metadata": {},
   "outputs": [],
   "source": [
    "# We notice there is an outlier in O2_2 measurements so we replace it with the mean\n",
    "Test = Test.replace(Test[\"O2_2\"].max(), value=Test[\"O2_2\"].mean())"
   ]
  },
  {
   "cell_type": "markdown",
   "metadata": {},
   "source": [
    "###### Creating our data set with O2 measures"
   ]
  },
  {
   "cell_type": "code",
   "execution_count": 43,
   "metadata": {},
   "outputs": [
    {
     "data": {
      "text/html": [
       "<div>\n",
       "<style scoped>\n",
       "    .dataframe tbody tr th:only-of-type {\n",
       "        vertical-align: middle;\n",
       "    }\n",
       "\n",
       "    .dataframe tbody tr th {\n",
       "        vertical-align: top;\n",
       "    }\n",
       "\n",
       "    .dataframe thead th {\n",
       "        text-align: right;\n",
       "    }\n",
       "</style>\n",
       "<table border=\"1\" class=\"dataframe\">\n",
       "  <thead>\n",
       "    <tr style=\"text-align: right;\">\n",
       "      <th></th>\n",
       "      <th>O2_1</th>\n",
       "      <th>O2_2</th>\n",
       "    </tr>\n",
       "  </thead>\n",
       "  <tbody>\n",
       "    <tr>\n",
       "      <th>0</th>\n",
       "      <td>10.90</td>\n",
       "      <td>10.60</td>\n",
       "    </tr>\n",
       "    <tr>\n",
       "      <th>1</th>\n",
       "      <td>13.15</td>\n",
       "      <td>12.62</td>\n",
       "    </tr>\n",
       "    <tr>\n",
       "      <th>2</th>\n",
       "      <td>3.80</td>\n",
       "      <td>6.50</td>\n",
       "    </tr>\n",
       "    <tr>\n",
       "      <th>3</th>\n",
       "      <td>10.45</td>\n",
       "      <td>10.65</td>\n",
       "    </tr>\n",
       "    <tr>\n",
       "      <th>4</th>\n",
       "      <td>8.10</td>\n",
       "      <td>8.10</td>\n",
       "    </tr>\n",
       "    <tr>\n",
       "      <th>...</th>\n",
       "      <td>...</td>\n",
       "      <td>...</td>\n",
       "    </tr>\n",
       "    <tr>\n",
       "      <th>58</th>\n",
       "      <td>4.14</td>\n",
       "      <td>7.60</td>\n",
       "    </tr>\n",
       "    <tr>\n",
       "      <th>59</th>\n",
       "      <td>9.90</td>\n",
       "      <td>8.20</td>\n",
       "    </tr>\n",
       "    <tr>\n",
       "      <th>60</th>\n",
       "      <td>8.00</td>\n",
       "      <td>9.50</td>\n",
       "    </tr>\n",
       "    <tr>\n",
       "      <th>61</th>\n",
       "      <td>4.10</td>\n",
       "      <td>4.30</td>\n",
       "    </tr>\n",
       "    <tr>\n",
       "      <th>62</th>\n",
       "      <td>9.70</td>\n",
       "      <td>9.10</td>\n",
       "    </tr>\n",
       "  </tbody>\n",
       "</table>\n",
       "<p>63 rows × 2 columns</p>\n",
       "</div>"
      ],
      "text/plain": [
       "     O2_1   O2_2\n",
       "0   10.90  10.60\n",
       "1   13.15  12.62\n",
       "2    3.80   6.50\n",
       "3   10.45  10.65\n",
       "4    8.10   8.10\n",
       "..    ...    ...\n",
       "58   4.14   7.60\n",
       "59   9.90   8.20\n",
       "60   8.00   9.50\n",
       "61   4.10   4.30\n",
       "62   9.70   9.10\n",
       "\n",
       "[63 rows x 2 columns]"
      ]
     },
     "execution_count": 43,
     "metadata": {},
     "output_type": "execute_result"
    }
   ],
   "source": [
    "#creating o2 data set\n",
    "Test_X = Test[[\"O2_1\", \"O2_2\"]]\n",
    "Test_X"
   ]
  },
  {
   "cell_type": "code",
   "execution_count": 44,
   "metadata": {},
   "outputs": [],
   "source": [
    "# Creating and fitting ploynomial features\n",
    "\n",
    "poly_features_X = PolynomialFeatures(degree=2, include_bias=False)\n",
    "\n",
    "Tes_X_poly = poly_features_X.fit_transform(Test_X)"
   ]
  },
  {
   "cell_type": "markdown",
   "metadata": {},
   "source": [
    "##### Test set O2 predictions"
   ]
  },
  {
   "cell_type": "code",
   "execution_count": 45,
   "metadata": {},
   "outputs": [
    {
     "data": {
      "text/plain": [
       "array([10.69476517, 12.98720805,  5.76269973, 10.45859752,  8.27597316,\n",
       "        7.64440368,  8.79345461,  7.48076473,  6.75704447, 12.9777875 ,\n",
       "        7.39343734, 10.25446144, 11.15904612,  7.40027749,  6.6869257 ,\n",
       "       21.70391966,  9.97383273, 16.7358445 , 18.65834928,  6.52320598,\n",
       "       11.89105912, 10.88251437, 10.0910623 , 10.42710626,  6.20742373,\n",
       "        6.14756157, 12.37866219,  8.56842077,  8.18681076,  6.60854687,\n",
       "        9.84120915,  6.50682747,  8.60462392,  7.74213791,  7.65257337,\n",
       "        6.26266108,  8.25749942, 12.47123287,  6.2874406 , 12.90729122,\n",
       "        8.34139857, 11.32141333,  7.54759721,  5.46525342,  9.42808012,\n",
       "        8.78920636,  7.47378665,  8.34903346,  8.3708452 , 10.29376327,\n",
       "        8.04410261,  7.65512936,  9.57331545,  7.86535   ,  7.73797399,\n",
       "        7.10128309,  6.63333293, 10.33734134,  6.06636973,  9.17289818,\n",
       "        8.64678736,  5.60611981,  9.4354318 ])"
      ]
     },
     "execution_count": 45,
     "metadata": {},
     "output_type": "execute_result"
    }
   ],
   "source": [
    "# Here we predict the target station O2 concentration from test set\n",
    "\n",
    "my_model.predict(Tes_X_poly)"
   ]
  },
  {
   "cell_type": "markdown",
   "metadata": {},
   "source": [
    "### Conclusion <a name=\"conclision\"></a>\n"
   ]
  },
  {
   "cell_type": "markdown",
   "metadata": {},
   "source": [
    "##### There were high amounts of null values in the data set and as a result the model had to be built on 2 feature sets - station 1 and 2. Further more there were outlier values not only present in the O2 data but within the entire data set. The final, best accuracy score which I was able to get, given these constraints was 72%. "
   ]
  },
  {
   "cell_type": "code",
   "execution_count": null,
   "metadata": {},
   "outputs": [],
   "source": []
  }
 ],
 "metadata": {
  "kernelspec": {
   "display_name": "Python 3",
   "language": "python",
   "name": "python3"
  },
  "language_info": {
   "codemirror_mode": {
    "name": "ipython",
    "version": 3
   },
   "file_extension": ".py",
   "mimetype": "text/x-python",
   "name": "python",
   "nbconvert_exporter": "python",
   "pygments_lexer": "ipython3",
   "version": "3.7.6"
  }
 },
 "nbformat": 4,
 "nbformat_minor": 4
}
